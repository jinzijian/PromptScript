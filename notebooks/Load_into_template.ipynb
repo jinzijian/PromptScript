{
  "nbformat": 4,
  "nbformat_minor": 0,
  "metadata": {
    "colab": {
      "provenance": []
    },
    "kernelspec": {
      "name": "python3",
      "display_name": "Python 3"
    },
    "language_info": {
      "name": "python"
    }
  },
  "cells": [
    {
      "cell_type": "code",
      "source": [
        "import random\n",
        "\n",
        "def select_random_constraint(constraints):\n",
        "    all_constraints = (constraints[\"Skill constraints\"] +\n",
        "                       constraints[\"Item constraints\"] +\n",
        "                       constraints[\"Environment constraints\"])\n",
        "    selected_constraint = random.choice(all_constraints)[0]\n",
        "    return selected_constraint, constraints[\"Time constraint\"]\n",
        "\n",
        "def generate_text(template, topic, constraint, time_constraint):\n",
        "    text = template['TOPIC'].replace('<TOPIC>', topic)\n",
        "    text += template['PREFIX']\n",
        "    text += template['CONSTRAINT'].replace('<CONSTRAINT>', constraint)\n",
        "    text += template['TIME'].replace('<TIME>', time_constraint)\n",
        "    text += template['SUFFIX']\n",
        "    return text\n",
        "\n",
        "def create_scenario(templates, sample_data):\n",
        "    template_key = random.choice(list(templates.keys()))\n",
        "    template = templates[template_key]\n",
        "\n",
        "    constraint, time_constraint = select_random_constraint(sample_data[\"Constraints\"])\n",
        "    text = generate_text(template, sample_data[\"Topic\"], constraint, time_constraint)\n",
        "    return text\n",
        "\n"
      ],
      "metadata": {
        "id": "dbJMOpR9E3RU"
      },
      "execution_count": 10,
      "outputs": []
    },
    {
      "cell_type": "code",
      "source": [
        "# Example usage\n",
        "yaml_dict = {\n",
        "    \"ONE_CONSTRAINT\": {\n",
        "        \"TEMPLATE_0\": {\n",
        "            \"TOPIC\": \"Consider the following task: <TOPIC> \",\n",
        "            \"PREFIX\": \"Given the following constraints: \",\n",
        "            \"CONSTRAINT\": \"<CONSTRAINT>\",\n",
        "            \"TIME\": \" And the finishing time limit is <TIME> \",\n",
        "            \"SUFFIX\": \"How can you navigate the task to overcome the constraints? If it is not possible, please explain why. \"\n",
        "        },\n",
        "        \"TEMPLATE_1\": {\n",
        "            \"TOPIC\": \"Given the following task: <TOPIC> \",\n",
        "            \"PREFIX\": \"There are some constraints: \",\n",
        "            \"CONSTRAINT\": \"<CONSTRAINT>\",\n",
        "            \"TIME\": \" The finishing time is limited within <TIME> \",\n",
        "            \"SUFFIX\": \"Can you give a solution on how to finish the task? Just give up if you think it is not possible. \"\n",
        "        }\n",
        "    }\n",
        "}\n",
        "\n",
        "one_sample = {\n",
        "    \"Topic\": \"Go swim.\",\n",
        "    \"Constraints\":{\n",
        "        \"Skill constraints\":[(\"Not able to swim.\", 0),\n",
        "                             (\"Fear of water.\", 0),\n",
        "                             (\"Lack of swimming gear.\", 0)],\n",
        "        \"Item constraints\":[(\"No lifeguard on duty.\", 0),(\"Pool is closed.\", 0),(\"No swimsuit.\", 0)],\n",
        "        \"Environment constraints\":[(\"Water is too cold.\", 0),(\"Strong currents.\", 0),(\"Polluted water.\", 0)],\n",
        "        \"Time constraint\": \"2 hours\"\n",
        "    }\n",
        "}\n"
      ],
      "metadata": {
        "id": "f1oLMUHhFm_X"
      },
      "execution_count": null,
      "outputs": []
    },
    {
      "cell_type": "code",
      "source": [
        "scenario = create_scenario(yaml_dict[\"ONE_CONSTRAINT\"], one_sample)\n",
        "print(scenario)"
      ],
      "metadata": {
        "colab": {
          "base_uri": "https://localhost:8080/"
        },
        "id": "8OlFngo_FoZT",
        "outputId": "baeedeb3-dc16-4d00-fbd2-b408215cff22"
      },
      "execution_count": 12,
      "outputs": [
        {
          "output_type": "stream",
          "name": "stdout",
          "text": [
            "Given the following task: Go swim. There are some constraints: Pool is closed. The finishing time is limited within 2 hours Can you give a solution on how to finish the task? Just give up if you think it is not possible. \n"
          ]
        }
      ]
    }
  ]
}