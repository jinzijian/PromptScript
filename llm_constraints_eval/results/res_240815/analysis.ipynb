{
 "cells": [
  {
   "cell_type": "code",
   "execution_count": 2,
   "metadata": {},
   "outputs": [],
   "source": [
    "import os, sys\n",
    "import json\n",
    "import numpy as np\n",
    "import pandas as pd\n",
    "import matplotlib.pyplot as plt"
   ]
  },
  {
   "cell_type": "code",
   "execution_count": 3,
   "metadata": {},
   "outputs": [],
   "source": [
    "gpt4_dir_analysis = './gpt4/analysis_template'\n",
    "gpt4_dir_basic = './gpt4/basic_template'"
   ]
  },
  {
   "cell_type": "code",
   "execution_count": 14,
   "metadata": {},
   "outputs": [],
   "source": [
    "def parse_judgement(x):\n",
    "    if '0,' in x:\n",
    "        return 0\n",
    "    elif '1,' in x:\n",
    "        return 1\n",
    "    else:\n",
    "        return None\n",
    "\n",
    "def parse_result(fpath):\n",
    "    res = pd.read_json(fpath)\n",
    "    res = res.transpose()\n",
    "    res['giveup'] = res['resps'].apply(parse_judgement)\n",
    "    return res"
   ]
  },
  {
   "cell_type": "code",
   "execution_count": 25,
   "metadata": {},
   "outputs": [],
   "source": [
    "file = os.path.join(gpt4_dir_basic, 'gpt4_s=l-i=l-e=l-40_seed=0.json')\n",
    "res_l = parse_result(file)\n",
    "\n",
    "file = os.path.join(gpt4_dir_basic, 'gpt4_s=h-i=l-e=l-20_seed=0.json')\n",
    "res_sh = parse_result(file)\n",
    "file = os.path.join(gpt4_dir_basic, 'gpt4_s=l-i=h-e=l-20_seed=0.json')\n",
    "res_ih = parse_result(file)\n",
    "file = os.path.join(gpt4_dir_basic, 'gpt4_s=l-i=l-e=h-20_seed=0.json')\n",
    "res_eh = parse_result(file)\n",
    "\n",
    "file = os.path.join(gpt4_dir_analysis, 'gpt4_s=l-i=l-e=l-40_seed=0.json')\n",
    "res_l2 = parse_result(file)\n",
    "\n",
    "file = os.path.join(gpt4_dir_analysis, 'gpt4_s=h-i=l-e=l-20_seed=0.json')\n",
    "res_sh2 = parse_result(file)\n",
    "file = os.path.join(gpt4_dir_analysis, 'gpt4_s=l-i=h-e=l-20_seed=0.json')\n",
    "res_ih2 = parse_result(file)\n",
    "file = os.path.join(gpt4_dir_analysis, 'gpt4_s=l-i=l-e=h-20_seed=0.json')\n",
    "res_eh2 = parse_result(file)"
   ]
  },
  {
   "cell_type": "code",
   "execution_count": 26,
   "metadata": {},
   "outputs": [
    {
     "name": "stdout",
     "output_type": "stream",
     "text": [
      "Giveup w. basic prompt: \n",
      "@ s=i=e=low: 0.575/0.5006406152531231\n",
      "@ s=high: 0.65/0.4893604849295929\n",
      "@ i=high: 0.8/0.41039134083406165\n",
      "@ e=high: 0.45/0.5104177855340405\n",
      "\n",
      "Giveup w. analysis prompt: \n",
      "@ s=i=e=low: 0.625/0.4902903378454601\n",
      "@ s=high: 0.8/0.41039134083406165\n",
      "@ i=high: 0.85/0.36634754853252327\n",
      "@ e=high: 0.6/0.5026246899500346\n",
      "\n"
     ]
    }
   ],
   "source": [
    "print(f\"Giveup w. basic prompt: \\n\" +\n",
    "      f\"@ s=i=e=low: {res_l['giveup'].mean()}/{res_l['giveup'].std()}\\n\" + \n",
    "      f\"@ s=high: {res_sh['giveup'].mean()}/{res_sh['giveup'].std()}\\n\" + \n",
    "      f\"@ i=high: {res_ih['giveup'].mean()}/{res_ih['giveup'].std()}\\n\" + \n",
    "      f\"@ e=high: {res_eh['giveup'].mean()}/{res_eh['giveup'].std()}\\n\" \n",
    ")\n",
    "\n",
    "print(f\"Giveup w. analysis prompt: \\n\" +\n",
    "      f\"@ s=i=e=low: {res_l2['giveup'].mean()}/{res_l2['giveup'].std()}\\n\" + \n",
    "      f\"@ s=high: {res_sh2['giveup'].mean()}/{res_sh2['giveup'].std()}\\n\" + \n",
    "      f\"@ i=high: {res_ih2['giveup'].mean()}/{res_ih2['giveup'].std()}\\n\" + \n",
    "      f\"@ e=high: {res_eh2['giveup'].mean()}/{res_eh2['giveup'].std()}\\n\" \n",
    ")"
   ]
  },
  {
   "cell_type": "code",
   "execution_count": null,
   "metadata": {},
   "outputs": [],
   "source": []
  }
 ],
 "metadata": {
  "kernelspec": {
   "display_name": "dev310",
   "language": "python",
   "name": "python3"
  },
  "language_info": {
   "codemirror_mode": {
    "name": "ipython",
    "version": 3
   },
   "file_extension": ".py",
   "mimetype": "text/x-python",
   "name": "python",
   "nbconvert_exporter": "python",
   "pygments_lexer": "ipython3",
   "version": "3.10.14"
  }
 },
 "nbformat": 4,
 "nbformat_minor": 2
}
