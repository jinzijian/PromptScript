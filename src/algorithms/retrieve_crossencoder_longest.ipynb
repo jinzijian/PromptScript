{
 "cells": [
  {
   "cell_type": "code",
   "execution_count": 1,
   "metadata": {},
   "outputs": [],
   "source": [
    "import pickle\n",
    "import random\n",
    "from random import shuffle"
   ]
  },
  {
   "cell_type": "code",
   "execution_count": 2,
   "metadata": {},
   "outputs": [],
   "source": [
    "save_filename = 'Scripts_learning_dataset_proscript_use_flatten_generation_longest.pickle'"
   ]
  },
  {
   "cell_type": "code",
   "execution_count": 3,
   "metadata": {},
   "outputs": [],
   "source": [
    "with open(save_filename, 'rb') as handle:\n",
    "    all_data = pickle.load(handle)    "
   ]
  },
  {
   "cell_type": "code",
   "execution_count": 4,
   "metadata": {},
   "outputs": [],
   "source": [
    "\"\"\"\n",
    "This examples trains a CrossEncoder for the Quora Duplicate Questions Detection task. A CrossEncoder takes a sentence pair\n",
    "as input and outputs a label. Here, it output a continious labels 0...1 to indicate the similarity between the input pair.\n",
    "\n",
    "It does NOT produce a sentence embedding and does NOT work for individual sentences.\n",
    "\n",
    "Usage:\n",
    "python training_quora_duplicate_questions.py\n",
    "\n",
    "\"\"\"\n",
    "import torch\n",
    "\n",
    "from torch.utils.data import DataLoader\n",
    "import math\n",
    "from sentence_transformers import LoggingHandler, util\n",
    "from sentence_transformers.cross_encoder import CrossEncoder\n",
    "from sentence_transformers.cross_encoder.evaluation import CEBinaryClassificationEvaluator\n",
    "from sentence_transformers.readers import InputExample\n",
    "import logging\n",
    "from datetime import datetime\n",
    "import os\n",
    "import gzip\n",
    "import csv\n",
    "from zipfile import ZipFile\n",
    "\n",
    "#### Just some code to print debug information to stdout\n",
    "logging.basicConfig(format='%(asctime)s - %(message)s',\n",
    "                    datefmt='%Y-%m-%d %H:%M:%S',\n",
    "                    level=logging.INFO,\n",
    "                    handlers=[LoggingHandler()])\n",
    "logger = logging.getLogger(__name__)\n",
    "#### /print debug information to stdout"
   ]
  },
  {
   "cell_type": "code",
   "execution_count": 5,
   "metadata": {},
   "outputs": [],
   "source": [
    "torch.manual_seed(0)\n",
    "random.seed(0)"
   ]
  },
  {
   "cell_type": "code",
   "execution_count": 6,
   "metadata": {},
   "outputs": [],
   "source": [
    "use_device = 'cuda:2'"
   ]
  },
  {
   "cell_type": "code",
   "execution_count": 7,
   "metadata": {},
   "outputs": [],
   "source": [
    "import pandas as pd\n",
    "all_df = all_data"
   ]
  },
  {
   "cell_type": "code",
   "execution_count": 8,
   "metadata": {},
   "outputs": [
    {
     "data": {
      "text/html": [
       "<div>\n",
       "<style scoped>\n",
       "    .dataframe tbody tr th:only-of-type {\n",
       "        vertical-align: middle;\n",
       "    }\n",
       "\n",
       "    .dataframe tbody tr th {\n",
       "        vertical-align: top;\n",
       "    }\n",
       "\n",
       "    .dataframe thead th {\n",
       "        text-align: right;\n",
       "    }\n",
       "</style>\n",
       "<table border=\"1\" class=\"dataframe\">\n",
       "  <thead>\n",
       "    <tr style=\"text-align: right;\">\n",
       "      <th></th>\n",
       "      <th>source</th>\n",
       "      <th>topic</th>\n",
       "      <th>text</th>\n",
       "      <th>longest_script</th>\n",
       "    </tr>\n",
       "  </thead>\n",
       "  <tbody>\n",
       "    <tr>\n",
       "      <th>0</th>\n",
       "      <td>proscript</td>\n",
       "      <td>ride a train</td>\n",
       "      <td>[[decided to ride a train, walk to ticket boot...</td>\n",
       "      <td>[decided to ride a train, walk to ticket booth...</td>\n",
       "    </tr>\n",
       "    <tr>\n",
       "      <th>1</th>\n",
       "      <td>proscript</td>\n",
       "      <td>win the minor league baseball</td>\n",
       "      <td>[[decided to win the minor league baseball, ge...</td>\n",
       "      <td>[decided to win the minor league baseball, get...</td>\n",
       "    </tr>\n",
       "    <tr>\n",
       "      <th>2</th>\n",
       "      <td>proscript</td>\n",
       "      <td>catch a big marlin</td>\n",
       "      <td>[[decided to catch a big marlin, look up local...</td>\n",
       "      <td>[decided to catch a big marlin, look up local ...</td>\n",
       "    </tr>\n",
       "    <tr>\n",
       "      <th>3</th>\n",
       "      <td>proscript</td>\n",
       "      <td>make banana muffins</td>\n",
       "      <td>[[decided to make banana muffins, Gather all o...</td>\n",
       "      <td>[decided to make banana muffins, Gather all of...</td>\n",
       "    </tr>\n",
       "    <tr>\n",
       "      <th>4</th>\n",
       "      <td>proscript</td>\n",
       "      <td>eat some food</td>\n",
       "      <td>[[decided to eat some food, Drive to pizza pla...</td>\n",
       "      <td>[decided to eat some food, Drive to pizza plac...</td>\n",
       "    </tr>\n",
       "    <tr>\n",
       "      <th>...</th>\n",
       "      <td>...</td>\n",
       "      <td>...</td>\n",
       "      <td>...</td>\n",
       "      <td>...</td>\n",
       "    </tr>\n",
       "    <tr>\n",
       "      <th>3778</th>\n",
       "      <td>wikihow</td>\n",
       "      <td>How to Write a Newspaper?</td>\n",
       "      <td>[[Determine you newspaper's niche., Choose a g...</td>\n",
       "      <td>[Choose the most relevant or compelling storie...</td>\n",
       "    </tr>\n",
       "    <tr>\n",
       "      <th>3779</th>\n",
       "      <td>wikihow</td>\n",
       "      <td>How to Write a Nonprofit Governing Board State...</td>\n",
       "      <td>[[Describe the organization’s purpose., Descri...</td>\n",
       "      <td>[Describe the organization’s purpose., Describ...</td>\n",
       "    </tr>\n",
       "    <tr>\n",
       "      <th>3780</th>\n",
       "      <td>wikihow</td>\n",
       "      <td>How to Write a Plaintiff's Affidavit?</td>\n",
       "      <td>[[Identify different types of plaintiff’s affi...</td>\n",
       "      <td>[Reread your complaint., Insert the caption in...</td>\n",
       "    </tr>\n",
       "    <tr>\n",
       "      <th>3781</th>\n",
       "      <td>wikihow</td>\n",
       "      <td>How to Write a Spec Script for TV?</td>\n",
       "      <td>[[Choose a TV show., Track down a script., Stu...</td>\n",
       "      <td>[Choose a good writing environment., Write it ...</td>\n",
       "    </tr>\n",
       "    <tr>\n",
       "      <th>3782</th>\n",
       "      <td>wikihow</td>\n",
       "      <td>How to Write to a Pen Pal for the First Time?</td>\n",
       "      <td>[[Use their name., Write a simple greeting., T...</td>\n",
       "      <td>[Use their name., Write a simple greeting., Te...</td>\n",
       "    </tr>\n",
       "  </tbody>\n",
       "</table>\n",
       "<p>3783 rows × 4 columns</p>\n",
       "</div>"
      ],
      "text/plain": [
       "         source                                              topic  \\\n",
       "0     proscript                                       ride a train   \n",
       "1     proscript                      win the minor league baseball   \n",
       "2     proscript                                 catch a big marlin   \n",
       "3     proscript                                make banana muffins   \n",
       "4     proscript                                      eat some food   \n",
       "...         ...                                                ...   \n",
       "3778    wikihow                          How to Write a Newspaper?   \n",
       "3779    wikihow  How to Write a Nonprofit Governing Board State...   \n",
       "3780    wikihow              How to Write a Plaintiff's Affidavit?   \n",
       "3781    wikihow                 How to Write a Spec Script for TV?   \n",
       "3782    wikihow      How to Write to a Pen Pal for the First Time?   \n",
       "\n",
       "                                                   text  \\\n",
       "0     [[decided to ride a train, walk to ticket boot...   \n",
       "1     [[decided to win the minor league baseball, ge...   \n",
       "2     [[decided to catch a big marlin, look up local...   \n",
       "3     [[decided to make banana muffins, Gather all o...   \n",
       "4     [[decided to eat some food, Drive to pizza pla...   \n",
       "...                                                 ...   \n",
       "3778  [[Determine you newspaper's niche., Choose a g...   \n",
       "3779  [[Describe the organization’s purpose., Descri...   \n",
       "3780  [[Identify different types of plaintiff’s affi...   \n",
       "3781  [[Choose a TV show., Track down a script., Stu...   \n",
       "3782  [[Use their name., Write a simple greeting., T...   \n",
       "\n",
       "                                         longest_script  \n",
       "0     [decided to ride a train, walk to ticket booth...  \n",
       "1     [decided to win the minor league baseball, get...  \n",
       "2     [decided to catch a big marlin, look up local ...  \n",
       "3     [decided to make banana muffins, Gather all of...  \n",
       "4     [decided to eat some food, Drive to pizza plac...  \n",
       "...                                                 ...  \n",
       "3778  [Choose the most relevant or compelling storie...  \n",
       "3779  [Describe the organization’s purpose., Describ...  \n",
       "3780  [Reread your complaint., Insert the caption in...  \n",
       "3781  [Choose a good writing environment., Write it ...  \n",
       "3782  [Use their name., Write a simple greeting., Te...  \n",
       "\n",
       "[3783 rows x 4 columns]"
      ]
     },
     "execution_count": 8,
     "metadata": {},
     "output_type": "execute_result"
    }
   ],
   "source": [
    "all_df"
   ]
  },
  {
   "cell_type": "code",
   "execution_count": 9,
   "metadata": {},
   "outputs": [
    {
     "data": {
      "text/plain": [
       "'win the minor league baseball'"
      ]
     },
     "execution_count": 9,
     "metadata": {},
     "output_type": "execute_result"
    }
   ],
   "source": [
    "all_df.loc[1]['topic']"
   ]
  },
  {
   "cell_type": "code",
   "execution_count": 10,
   "metadata": {},
   "outputs": [
    {
     "data": {
      "text/html": [
       "<div>\n",
       "<style scoped>\n",
       "    .dataframe tbody tr th:only-of-type {\n",
       "        vertical-align: middle;\n",
       "    }\n",
       "\n",
       "    .dataframe tbody tr th {\n",
       "        vertical-align: top;\n",
       "    }\n",
       "\n",
       "    .dataframe thead th {\n",
       "        text-align: right;\n",
       "    }\n",
       "</style>\n",
       "<table border=\"1\" class=\"dataframe\">\n",
       "  <thead>\n",
       "    <tr style=\"text-align: right;\">\n",
       "      <th></th>\n",
       "      <th>source</th>\n",
       "      <th>topic</th>\n",
       "      <th>text</th>\n",
       "      <th>longest_script</th>\n",
       "    </tr>\n",
       "  </thead>\n",
       "  <tbody>\n",
       "    <tr>\n",
       "      <th>0</th>\n",
       "      <td>proscript</td>\n",
       "      <td>buy some juggling balls</td>\n",
       "      <td>[[go to amazon.com, look around website, locat...</td>\n",
       "      <td>[go to amazon.com, look around website, locate...</td>\n",
       "    </tr>\n",
       "    <tr>\n",
       "      <th>1</th>\n",
       "      <td>wikihow</td>\n",
       "      <td>How to Share Books on Kindle?</td>\n",
       "      <td>[[Create an Amazon Household., Visit the “Mana...</td>\n",
       "      <td>[Create an Amazon Household., Visit the “Manag...</td>\n",
       "    </tr>\n",
       "    <tr>\n",
       "      <th>2</th>\n",
       "      <td>proscript</td>\n",
       "      <td>drop bags on ground near car</td>\n",
       "      <td>[[take bags outside, look at car, point body a...</td>\n",
       "      <td>[take bags outside, look at car, point body at...</td>\n",
       "    </tr>\n",
       "    <tr>\n",
       "      <th>3</th>\n",
       "      <td>stories_xml</td>\n",
       "      <td>give a medicine</td>\n",
       "      <td>[[go to the place where medicine is kept ., id...</td>\n",
       "      <td>[read instructions ., read instructions ., ope...</td>\n",
       "    </tr>\n",
       "    <tr>\n",
       "      <th>4</th>\n",
       "      <td>wikihow</td>\n",
       "      <td>How to Escape the Small Town Blues?</td>\n",
       "      <td>[[Start a new hobby., Register for a class., T...</td>\n",
       "      <td>[Start a new hobby., Register for a class., Ta...</td>\n",
       "    </tr>\n",
       "    <tr>\n",
       "      <th>...</th>\n",
       "      <td>...</td>\n",
       "      <td>...</td>\n",
       "      <td>...</td>\n",
       "      <td>...</td>\n",
       "    </tr>\n",
       "    <tr>\n",
       "      <th>3778</th>\n",
       "      <td>wikihow</td>\n",
       "      <td>How to Save an Attachment to Your Computer?</td>\n",
       "      <td>[[Log into your e-mail account., Go to your in...</td>\n",
       "      <td>[Log into your e-mail account., Go to your inb...</td>\n",
       "    </tr>\n",
       "    <tr>\n",
       "      <th>3779</th>\n",
       "      <td>wikihow</td>\n",
       "      <td>How to Cover up a Fart in High School Settings?</td>\n",
       "      <td>[[Pretend the fart was your shoe or chair., Pr...</td>\n",
       "      <td>[Pretend the fart was your shoe or chair., Pre...</td>\n",
       "    </tr>\n",
       "    <tr>\n",
       "      <th>3780</th>\n",
       "      <td>proscript</td>\n",
       "      <td>get the tiller</td>\n",
       "      <td>[[kill any weeds, look for tiller, find the ti...</td>\n",
       "      <td>[kill any weeds, look for tiller, find the til...</td>\n",
       "    </tr>\n",
       "    <tr>\n",
       "      <th>3781</th>\n",
       "      <td>wikihow</td>\n",
       "      <td>How to Prevent Stains on Dentures?</td>\n",
       "      <td>[[Purchase a denture cleaning product., Follow...</td>\n",
       "      <td>[Mix vinegar and water., Soak your dentures in...</td>\n",
       "    </tr>\n",
       "    <tr>\n",
       "      <th>3782</th>\n",
       "      <td>wikihow</td>\n",
       "      <td>How to Get Rid of Dry Hair?</td>\n",
       "      <td>[[Wash your hair less often., Use less shampoo...</td>\n",
       "      <td>[Wash your hair less often., Use less shampoo....</td>\n",
       "    </tr>\n",
       "  </tbody>\n",
       "</table>\n",
       "<p>3783 rows × 4 columns</p>\n",
       "</div>"
      ],
      "text/plain": [
       "           source                                            topic  \\\n",
       "0       proscript                          buy some juggling balls   \n",
       "1         wikihow                    How to Share Books on Kindle?   \n",
       "2       proscript                     drop bags on ground near car   \n",
       "3     stories_xml                                  give a medicine   \n",
       "4         wikihow              How to Escape the Small Town Blues?   \n",
       "...           ...                                              ...   \n",
       "3778      wikihow      How to Save an Attachment to Your Computer?   \n",
       "3779      wikihow  How to Cover up a Fart in High School Settings?   \n",
       "3780    proscript                                   get the tiller   \n",
       "3781      wikihow               How to Prevent Stains on Dentures?   \n",
       "3782      wikihow                      How to Get Rid of Dry Hair?   \n",
       "\n",
       "                                                   text  \\\n",
       "0     [[go to amazon.com, look around website, locat...   \n",
       "1     [[Create an Amazon Household., Visit the “Mana...   \n",
       "2     [[take bags outside, look at car, point body a...   \n",
       "3     [[go to the place where medicine is kept ., id...   \n",
       "4     [[Start a new hobby., Register for a class., T...   \n",
       "...                                                 ...   \n",
       "3778  [[Log into your e-mail account., Go to your in...   \n",
       "3779  [[Pretend the fart was your shoe or chair., Pr...   \n",
       "3780  [[kill any weeds, look for tiller, find the ti...   \n",
       "3781  [[Purchase a denture cleaning product., Follow...   \n",
       "3782  [[Wash your hair less often., Use less shampoo...   \n",
       "\n",
       "                                         longest_script  \n",
       "0     [go to amazon.com, look around website, locate...  \n",
       "1     [Create an Amazon Household., Visit the “Manag...  \n",
       "2     [take bags outside, look at car, point body at...  \n",
       "3     [read instructions ., read instructions ., ope...  \n",
       "4     [Start a new hobby., Register for a class., Ta...  \n",
       "...                                                 ...  \n",
       "3778  [Log into your e-mail account., Go to your inb...  \n",
       "3779  [Pretend the fart was your shoe or chair., Pre...  \n",
       "3780  [kill any weeds, look for tiller, find the til...  \n",
       "3781  [Mix vinegar and water., Soak your dentures in...  \n",
       "3782  [Wash your hair less often., Use less shampoo....  \n",
       "\n",
       "[3783 rows x 4 columns]"
      ]
     },
     "execution_count": 10,
     "metadata": {},
     "output_type": "execute_result"
    }
   ],
   "source": [
    "# Shuffle the DataFrame rows\n",
    "shuffled_df = all_df.sample(frac=1).reset_index(drop=True)\n",
    "\n",
    "shuffled_df"
   ]
  },
  {
   "cell_type": "code",
   "execution_count": 11,
   "metadata": {},
   "outputs": [],
   "source": [
    "dev_part = int(.8 * len(shuffled_df))\n",
    "test_part = int(.9 * len(shuffled_df))\n",
    "train_df = shuffled_df.iloc[:dev_part].reset_index(drop=True)\n",
    "dev_df = shuffled_df.iloc[dev_part:test_part].reset_index(drop=True)\n",
    "test_df = shuffled_df.iloc[test_part:].reset_index(drop=True)"
   ]
  },
  {
   "cell_type": "code",
   "execution_count": 12,
   "metadata": {},
   "outputs": [
    {
     "data": {
      "text/html": [
       "<div>\n",
       "<style scoped>\n",
       "    .dataframe tbody tr th:only-of-type {\n",
       "        vertical-align: middle;\n",
       "    }\n",
       "\n",
       "    .dataframe tbody tr th {\n",
       "        vertical-align: top;\n",
       "    }\n",
       "\n",
       "    .dataframe thead th {\n",
       "        text-align: right;\n",
       "    }\n",
       "</style>\n",
       "<table border=\"1\" class=\"dataframe\">\n",
       "  <thead>\n",
       "    <tr style=\"text-align: right;\">\n",
       "      <th></th>\n",
       "      <th>source</th>\n",
       "      <th>topic</th>\n",
       "      <th>text</th>\n",
       "      <th>longest_script</th>\n",
       "    </tr>\n",
       "  </thead>\n",
       "  <tbody>\n",
       "    <tr>\n",
       "      <th>0</th>\n",
       "      <td>proscript</td>\n",
       "      <td>buy some juggling balls</td>\n",
       "      <td>[[go to amazon.com, look around website, locat...</td>\n",
       "      <td>[go to amazon.com, look around website, locate...</td>\n",
       "    </tr>\n",
       "    <tr>\n",
       "      <th>1</th>\n",
       "      <td>wikihow</td>\n",
       "      <td>How to Share Books on Kindle?</td>\n",
       "      <td>[[Create an Amazon Household., Visit the “Mana...</td>\n",
       "      <td>[Create an Amazon Household., Visit the “Manag...</td>\n",
       "    </tr>\n",
       "    <tr>\n",
       "      <th>2</th>\n",
       "      <td>proscript</td>\n",
       "      <td>drop bags on ground near car</td>\n",
       "      <td>[[take bags outside, look at car, point body a...</td>\n",
       "      <td>[take bags outside, look at car, point body at...</td>\n",
       "    </tr>\n",
       "    <tr>\n",
       "      <th>3</th>\n",
       "      <td>stories_xml</td>\n",
       "      <td>give a medicine</td>\n",
       "      <td>[[go to the place where medicine is kept ., id...</td>\n",
       "      <td>[read instructions ., read instructions ., ope...</td>\n",
       "    </tr>\n",
       "    <tr>\n",
       "      <th>4</th>\n",
       "      <td>wikihow</td>\n",
       "      <td>How to Escape the Small Town Blues?</td>\n",
       "      <td>[[Start a new hobby., Register for a class., T...</td>\n",
       "      <td>[Start a new hobby., Register for a class., Ta...</td>\n",
       "    </tr>\n",
       "    <tr>\n",
       "      <th>...</th>\n",
       "      <td>...</td>\n",
       "      <td>...</td>\n",
       "      <td>...</td>\n",
       "      <td>...</td>\n",
       "    </tr>\n",
       "    <tr>\n",
       "      <th>3021</th>\n",
       "      <td>proscript</td>\n",
       "      <td>dress as endorman for halloween</td>\n",
       "      <td>[[decided to dress as endorman for halloween, ...</td>\n",
       "      <td>[decided to dress as endorman for halloween, G...</td>\n",
       "    </tr>\n",
       "    <tr>\n",
       "      <th>3022</th>\n",
       "      <td>wikihow</td>\n",
       "      <td>How to Be Like a Prince?</td>\n",
       "      <td>[[Have good manners., Get the look down pat., ...</td>\n",
       "      <td>[Have good manners., Get the look down pat., M...</td>\n",
       "    </tr>\n",
       "    <tr>\n",
       "      <th>3023</th>\n",
       "      <td>proscript</td>\n",
       "      <td>get dressed in nice clothes</td>\n",
       "      <td>[[take a shower, step out of the shower., dry ...</td>\n",
       "      <td>[take a shower, step out of the shower., dry o...</td>\n",
       "    </tr>\n",
       "    <tr>\n",
       "      <th>3024</th>\n",
       "      <td>wikihow</td>\n",
       "      <td>How to Make Skinny Jeans?</td>\n",
       "      <td>[[Put on your jeans to get an idea of the shap...</td>\n",
       "      <td>[Put on your jeans to get an idea of the shape...</td>\n",
       "    </tr>\n",
       "    <tr>\n",
       "      <th>3025</th>\n",
       "      <td>wikihow</td>\n",
       "      <td>How to Keep a Woman's Underarms Hairfree?</td>\n",
       "      <td>[[Use a sharp razor., Apply a layer of shaving...</td>\n",
       "      <td>[Use a sharp razor., Apply a layer of shaving ...</td>\n",
       "    </tr>\n",
       "  </tbody>\n",
       "</table>\n",
       "<p>3026 rows × 4 columns</p>\n",
       "</div>"
      ],
      "text/plain": [
       "           source                                      topic  \\\n",
       "0       proscript                    buy some juggling balls   \n",
       "1         wikihow              How to Share Books on Kindle?   \n",
       "2       proscript               drop bags on ground near car   \n",
       "3     stories_xml                            give a medicine   \n",
       "4         wikihow        How to Escape the Small Town Blues?   \n",
       "...           ...                                        ...   \n",
       "3021    proscript            dress as endorman for halloween   \n",
       "3022      wikihow                   How to Be Like a Prince?   \n",
       "3023    proscript                get dressed in nice clothes   \n",
       "3024      wikihow                  How to Make Skinny Jeans?   \n",
       "3025      wikihow  How to Keep a Woman's Underarms Hairfree?   \n",
       "\n",
       "                                                   text  \\\n",
       "0     [[go to amazon.com, look around website, locat...   \n",
       "1     [[Create an Amazon Household., Visit the “Mana...   \n",
       "2     [[take bags outside, look at car, point body a...   \n",
       "3     [[go to the place where medicine is kept ., id...   \n",
       "4     [[Start a new hobby., Register for a class., T...   \n",
       "...                                                 ...   \n",
       "3021  [[decided to dress as endorman for halloween, ...   \n",
       "3022  [[Have good manners., Get the look down pat., ...   \n",
       "3023  [[take a shower, step out of the shower., dry ...   \n",
       "3024  [[Put on your jeans to get an idea of the shap...   \n",
       "3025  [[Use a sharp razor., Apply a layer of shaving...   \n",
       "\n",
       "                                         longest_script  \n",
       "0     [go to amazon.com, look around website, locate...  \n",
       "1     [Create an Amazon Household., Visit the “Manag...  \n",
       "2     [take bags outside, look at car, point body at...  \n",
       "3     [read instructions ., read instructions ., ope...  \n",
       "4     [Start a new hobby., Register for a class., Ta...  \n",
       "...                                                 ...  \n",
       "3021  [decided to dress as endorman for halloween, G...  \n",
       "3022  [Have good manners., Get the look down pat., M...  \n",
       "3023  [take a shower, step out of the shower., dry o...  \n",
       "3024  [Put on your jeans to get an idea of the shape...  \n",
       "3025  [Use a sharp razor., Apply a layer of shaving ...  \n",
       "\n",
       "[3026 rows x 4 columns]"
      ]
     },
     "execution_count": 12,
     "metadata": {},
     "output_type": "execute_result"
    }
   ],
   "source": [
    "train_df # stories_xml\tboil the milk"
   ]
  },
  {
   "cell_type": "code",
   "execution_count": 13,
   "metadata": {},
   "outputs": [
    {
     "data": {
      "text/html": [
       "<div>\n",
       "<style scoped>\n",
       "    .dataframe tbody tr th:only-of-type {\n",
       "        vertical-align: middle;\n",
       "    }\n",
       "\n",
       "    .dataframe tbody tr th {\n",
       "        vertical-align: top;\n",
       "    }\n",
       "\n",
       "    .dataframe thead th {\n",
       "        text-align: right;\n",
       "    }\n",
       "</style>\n",
       "<table border=\"1\" class=\"dataframe\">\n",
       "  <thead>\n",
       "    <tr style=\"text-align: right;\">\n",
       "      <th></th>\n",
       "      <th>source</th>\n",
       "      <th>topic</th>\n",
       "      <th>text</th>\n",
       "      <th>longest_script</th>\n",
       "    </tr>\n",
       "  </thead>\n",
       "  <tbody>\n",
       "    <tr>\n",
       "      <th>0</th>\n",
       "      <td>wikihow</td>\n",
       "      <td>How to Patch Test Skin?</td>\n",
       "      <td>[[Understand product skin testing., Put a smal...</td>\n",
       "      <td>[Understand product skin testing., Put a small...</td>\n",
       "    </tr>\n",
       "    <tr>\n",
       "      <th>1</th>\n",
       "      <td>proscript</td>\n",
       "      <td>drink a soda</td>\n",
       "      <td>[[decided to drink a soda, walk to the refrige...</td>\n",
       "      <td>[decided to drink a soda, walk to the refriger...</td>\n",
       "    </tr>\n",
       "    <tr>\n",
       "      <th>2</th>\n",
       "      <td>wikihow</td>\n",
       "      <td>How to Email Inmates in Prison?</td>\n",
       "      <td>[[Make sure the inmate has added you on their ...</td>\n",
       "      <td>[Make sure the inmate has added you on their C...</td>\n",
       "    </tr>\n",
       "    <tr>\n",
       "      <th>3</th>\n",
       "      <td>proscript</td>\n",
       "      <td>learn how to dance in college</td>\n",
       "      <td>[[decided to learn how to dance in college, re...</td>\n",
       "      <td>[decided to learn how to dance in college, rea...</td>\n",
       "    </tr>\n",
       "    <tr>\n",
       "      <th>4</th>\n",
       "      <td>wikihow</td>\n",
       "      <td>How to Check a Child's Hair for Lice?</td>\n",
       "      <td>[[Ask around., Look for signs and symptoms., D...</td>\n",
       "      <td>[Ask around., Look for signs and symptoms., Do...</td>\n",
       "    </tr>\n",
       "    <tr>\n",
       "      <th>...</th>\n",
       "      <td>...</td>\n",
       "      <td>...</td>\n",
       "      <td>...</td>\n",
       "      <td>...</td>\n",
       "    </tr>\n",
       "    <tr>\n",
       "      <th>373</th>\n",
       "      <td>proscript</td>\n",
       "      <td>bake a dozen chocolate chip cookies</td>\n",
       "      <td>[[decided to bake a dozen chocolate chip cooki...</td>\n",
       "      <td>[decided to bake a dozen chocolate chip cookie...</td>\n",
       "    </tr>\n",
       "    <tr>\n",
       "      <th>374</th>\n",
       "      <td>proscript</td>\n",
       "      <td>travel to an exotic country</td>\n",
       "      <td>[[decided to travel to an exotic country, go t...</td>\n",
       "      <td>[decided to travel to an exotic country, go to...</td>\n",
       "    </tr>\n",
       "    <tr>\n",
       "      <th>375</th>\n",
       "      <td>wikihow</td>\n",
       "      <td>How to Hide Money from Your Siblings and Parents?</td>\n",
       "      <td>[[Do not cause a fire hazard., Do not use tigh...</td>\n",
       "      <td>[Do not cause a fire hazard., Do not use tight...</td>\n",
       "    </tr>\n",
       "    <tr>\n",
       "      <th>376</th>\n",
       "      <td>proscript</td>\n",
       "      <td>start cleaning up room</td>\n",
       "      <td>[[decide to clean room first, move right foot ...</td>\n",
       "      <td>[decide to clean room first, move right foot t...</td>\n",
       "    </tr>\n",
       "    <tr>\n",
       "      <th>377</th>\n",
       "      <td>proscript</td>\n",
       "      <td>Lock the car doors.</td>\n",
       "      <td>[[Park the vehicle in the parking spot., turn ...</td>\n",
       "      <td>[Park the vehicle in the parking spot., turn o...</td>\n",
       "    </tr>\n",
       "  </tbody>\n",
       "</table>\n",
       "<p>378 rows × 4 columns</p>\n",
       "</div>"
      ],
      "text/plain": [
       "        source                                              topic  \\\n",
       "0      wikihow                            How to Patch Test Skin?   \n",
       "1    proscript                                       drink a soda   \n",
       "2      wikihow                    How to Email Inmates in Prison?   \n",
       "3    proscript                      learn how to dance in college   \n",
       "4      wikihow              How to Check a Child's Hair for Lice?   \n",
       "..         ...                                                ...   \n",
       "373  proscript                bake a dozen chocolate chip cookies   \n",
       "374  proscript                        travel to an exotic country   \n",
       "375    wikihow  How to Hide Money from Your Siblings and Parents?   \n",
       "376  proscript                             start cleaning up room   \n",
       "377  proscript                                Lock the car doors.   \n",
       "\n",
       "                                                  text  \\\n",
       "0    [[Understand product skin testing., Put a smal...   \n",
       "1    [[decided to drink a soda, walk to the refrige...   \n",
       "2    [[Make sure the inmate has added you on their ...   \n",
       "3    [[decided to learn how to dance in college, re...   \n",
       "4    [[Ask around., Look for signs and symptoms., D...   \n",
       "..                                                 ...   \n",
       "373  [[decided to bake a dozen chocolate chip cooki...   \n",
       "374  [[decided to travel to an exotic country, go t...   \n",
       "375  [[Do not cause a fire hazard., Do not use tigh...   \n",
       "376  [[decide to clean room first, move right foot ...   \n",
       "377  [[Park the vehicle in the parking spot., turn ...   \n",
       "\n",
       "                                        longest_script  \n",
       "0    [Understand product skin testing., Put a small...  \n",
       "1    [decided to drink a soda, walk to the refriger...  \n",
       "2    [Make sure the inmate has added you on their C...  \n",
       "3    [decided to learn how to dance in college, rea...  \n",
       "4    [Ask around., Look for signs and symptoms., Do...  \n",
       "..                                                 ...  \n",
       "373  [decided to bake a dozen chocolate chip cookie...  \n",
       "374  [decided to travel to an exotic country, go to...  \n",
       "375  [Do not cause a fire hazard., Do not use tight...  \n",
       "376  [decide to clean room first, move right foot t...  \n",
       "377  [Park the vehicle in the parking spot., turn o...  \n",
       "\n",
       "[378 rows x 4 columns]"
      ]
     },
     "execution_count": 13,
     "metadata": {},
     "output_type": "execute_result"
    }
   ],
   "source": [
    "dev_df # 0\tproscript\tPut pie in the oven."
   ]
  },
  {
   "cell_type": "code",
   "execution_count": 14,
   "metadata": {},
   "outputs": [
    {
     "data": {
      "text/html": [
       "<div>\n",
       "<style scoped>\n",
       "    .dataframe tbody tr th:only-of-type {\n",
       "        vertical-align: middle;\n",
       "    }\n",
       "\n",
       "    .dataframe tbody tr th {\n",
       "        vertical-align: top;\n",
       "    }\n",
       "\n",
       "    .dataframe thead th {\n",
       "        text-align: right;\n",
       "    }\n",
       "</style>\n",
       "<table border=\"1\" class=\"dataframe\">\n",
       "  <thead>\n",
       "    <tr style=\"text-align: right;\">\n",
       "      <th></th>\n",
       "      <th>source</th>\n",
       "      <th>topic</th>\n",
       "      <th>text</th>\n",
       "      <th>longest_script</th>\n",
       "    </tr>\n",
       "  </thead>\n",
       "  <tbody>\n",
       "    <tr>\n",
       "      <th>0</th>\n",
       "      <td>proscript</td>\n",
       "      <td>throw a big party</td>\n",
       "      <td>[[decided to throw a big party, send out invit...</td>\n",
       "      <td>[decided to throw a big party, send out invite...</td>\n",
       "    </tr>\n",
       "    <tr>\n",
       "      <th>1</th>\n",
       "      <td>proscript</td>\n",
       "      <td>Make the food.</td>\n",
       "      <td>[[Preheat the oven., take vegetables out of re...</td>\n",
       "      <td>[Preheat the oven., take vegetables out of ref...</td>\n",
       "    </tr>\n",
       "    <tr>\n",
       "      <th>2</th>\n",
       "      <td>proscript</td>\n",
       "      <td>Sleep in bed.</td>\n",
       "      <td>[[Get in bed., Put covers over body, Close the...</td>\n",
       "      <td>[Get in bed., Put covers over body, Close the ...</td>\n",
       "    </tr>\n",
       "    <tr>\n",
       "      <th>3</th>\n",
       "      <td>wikihow</td>\n",
       "      <td>How to Clean a Litter Box?</td>\n",
       "      <td>[[Set up a trash can close by., Wear disposabl...</td>\n",
       "      <td>[Empty out the old litter., Scrub the empty li...</td>\n",
       "    </tr>\n",
       "    <tr>\n",
       "      <th>4</th>\n",
       "      <td>stories_xml</td>\n",
       "      <td>replace a refrigerator filter</td>\n",
       "      <td>[[find new filter ., remove old filter ., remo...</td>\n",
       "      <td>[move over to the fridge ., turn the fridge of...</td>\n",
       "    </tr>\n",
       "    <tr>\n",
       "      <th>...</th>\n",
       "      <td>...</td>\n",
       "      <td>...</td>\n",
       "      <td>...</td>\n",
       "      <td>...</td>\n",
       "    </tr>\n",
       "    <tr>\n",
       "      <th>374</th>\n",
       "      <td>wikihow</td>\n",
       "      <td>How to Save an Attachment to Your Computer?</td>\n",
       "      <td>[[Log into your e-mail account., Go to your in...</td>\n",
       "      <td>[Log into your e-mail account., Go to your inb...</td>\n",
       "    </tr>\n",
       "    <tr>\n",
       "      <th>375</th>\n",
       "      <td>wikihow</td>\n",
       "      <td>How to Cover up a Fart in High School Settings?</td>\n",
       "      <td>[[Pretend the fart was your shoe or chair., Pr...</td>\n",
       "      <td>[Pretend the fart was your shoe or chair., Pre...</td>\n",
       "    </tr>\n",
       "    <tr>\n",
       "      <th>376</th>\n",
       "      <td>proscript</td>\n",
       "      <td>get the tiller</td>\n",
       "      <td>[[kill any weeds, look for tiller, find the ti...</td>\n",
       "      <td>[kill any weeds, look for tiller, find the til...</td>\n",
       "    </tr>\n",
       "    <tr>\n",
       "      <th>377</th>\n",
       "      <td>wikihow</td>\n",
       "      <td>How to Prevent Stains on Dentures?</td>\n",
       "      <td>[[Purchase a denture cleaning product., Follow...</td>\n",
       "      <td>[Mix vinegar and water., Soak your dentures in...</td>\n",
       "    </tr>\n",
       "    <tr>\n",
       "      <th>378</th>\n",
       "      <td>wikihow</td>\n",
       "      <td>How to Get Rid of Dry Hair?</td>\n",
       "      <td>[[Wash your hair less often., Use less shampoo...</td>\n",
       "      <td>[Wash your hair less often., Use less shampoo....</td>\n",
       "    </tr>\n",
       "  </tbody>\n",
       "</table>\n",
       "<p>379 rows × 4 columns</p>\n",
       "</div>"
      ],
      "text/plain": [
       "          source                                            topic  \\\n",
       "0      proscript                                throw a big party   \n",
       "1      proscript                                   Make the food.   \n",
       "2      proscript                                    Sleep in bed.   \n",
       "3        wikihow                       How to Clean a Litter Box?   \n",
       "4    stories_xml                    replace a refrigerator filter   \n",
       "..           ...                                              ...   \n",
       "374      wikihow      How to Save an Attachment to Your Computer?   \n",
       "375      wikihow  How to Cover up a Fart in High School Settings?   \n",
       "376    proscript                                   get the tiller   \n",
       "377      wikihow               How to Prevent Stains on Dentures?   \n",
       "378      wikihow                      How to Get Rid of Dry Hair?   \n",
       "\n",
       "                                                  text  \\\n",
       "0    [[decided to throw a big party, send out invit...   \n",
       "1    [[Preheat the oven., take vegetables out of re...   \n",
       "2    [[Get in bed., Put covers over body, Close the...   \n",
       "3    [[Set up a trash can close by., Wear disposabl...   \n",
       "4    [[find new filter ., remove old filter ., remo...   \n",
       "..                                                 ...   \n",
       "374  [[Log into your e-mail account., Go to your in...   \n",
       "375  [[Pretend the fart was your shoe or chair., Pr...   \n",
       "376  [[kill any weeds, look for tiller, find the ti...   \n",
       "377  [[Purchase a denture cleaning product., Follow...   \n",
       "378  [[Wash your hair less often., Use less shampoo...   \n",
       "\n",
       "                                        longest_script  \n",
       "0    [decided to throw a big party, send out invite...  \n",
       "1    [Preheat the oven., take vegetables out of ref...  \n",
       "2    [Get in bed., Put covers over body, Close the ...  \n",
       "3    [Empty out the old litter., Scrub the empty li...  \n",
       "4    [move over to the fridge ., turn the fridge of...  \n",
       "..                                                 ...  \n",
       "374  [Log into your e-mail account., Go to your inb...  \n",
       "375  [Pretend the fart was your shoe or chair., Pre...  \n",
       "376  [kill any weeds, look for tiller, find the til...  \n",
       "377  [Mix vinegar and water., Soak your dentures in...  \n",
       "378  [Wash your hair less often., Use less shampoo....  \n",
       "\n",
       "[379 rows x 4 columns]"
      ]
     },
     "execution_count": 14,
     "metadata": {},
     "output_type": "execute_result"
    }
   ],
   "source": [
    "test_df # 0\tproscript\tMake sure to have supplies"
   ]
  },
  {
   "cell_type": "code",
   "execution_count": 15,
   "metadata": {},
   "outputs": [],
   "source": [
    "def sample_neg_topic(idx_list, value_to_exclude, sample_size):\n",
    "\n",
    "    # Filter out the specific value from the list\n",
    "    filtered_list = [x for x in idx_list if x != value_to_exclude]\n",
    "\n",
    "    # Sample without duplicates, excluding the specific value\n",
    "    # Set the desired sample size\n",
    "    random_sample = random.sample(filtered_list, sample_size)\n",
    "\n",
    "    return random_sample"
   ]
  },
  {
   "cell_type": "code",
   "execution_count": 16,
   "metadata": {},
   "outputs": [],
   "source": [
    "# def sample_neg_action(action_list):\n",
    "#     return random.choice(action_list)"
   ]
  },
  {
   "cell_type": "markdown",
   "metadata": {},
   "source": [
    "## Data split method:\n",
    "Use InputExample:\n",
    "1. flat all text in a topic\n",
    "2. duplicate topic with script steps\n",
    "3. get negatives from rest"
   ]
  },
  {
   "cell_type": "code",
   "execution_count": 17,
   "metadata": {},
   "outputs": [],
   "source": [
    "def flatten_list(nestedlist):\n",
    "    return [string for sublist in nestedlist for string in sublist]"
   ]
  },
  {
   "cell_type": "code",
   "execution_count": 18,
   "metadata": {},
   "outputs": [],
   "source": [
    "pos_label_digit = 0\n",
    "neg_label_digit = 1"
   ]
  },
  {
   "cell_type": "code",
   "execution_count": 19,
   "metadata": {},
   "outputs": [],
   "source": [
    "def create_InputExample_for_topic(df, idx, neg_num = 10):\n",
    "    all_idx_list = list(range(len(df)))\n",
    "    topic = df.loc[idx]['topic']\n",
    "    pos_script_actions = df.loc[idx]['longest_script']\n",
    "    neg_idx = sample_neg_topic(all_idx_list, idx, sample_size = neg_num)\n",
    "    # random select an action from a neg topic\n",
    "    neg_script_actions = [random.choice(df.loc[each]['longest_script']) for each in neg_idx] \n",
    "    pos_inputexamples = []\n",
    "    for each in pos_script_actions:\n",
    "        pos_inputexamples.append(InputExample(texts=[topic, each], label=int(pos_label_digit)))\n",
    "    neg_inputexamples = []\n",
    "    for each in neg_script_actions:\n",
    "        neg_inputexamples.append(InputExample(texts=[topic, each], label=int(neg_label_digit)))\n",
    "    training_inputexamples = pos_inputexamples + neg_inputexamples\n",
    "\n",
    "    shuffle(training_inputexamples)\n",
    "    \n",
    "    return training_inputexamples"
   ]
  },
  {
   "cell_type": "code",
   "execution_count": 20,
   "metadata": {},
   "outputs": [],
   "source": [
    "def create_InputExample_for_topic_test_on_all(df, idx):\n",
    "    all_idx_list = list(range(len(df)))\n",
    "    topic = df.loc[idx]['topic']\n",
    "    pos_script_actions = df.loc[idx]['longest_script']\n",
    "    neg_idx = [x for x in all_idx_list if x != idx]\n",
    "    neg_df = df.loc[neg_idx]\n",
    "    # all action from all neg topics\n",
    "    neg_script_actions = flatten_list(list(neg_df['longest_script']))\n",
    "    pos_examples = []\n",
    "    pos_inputexamples = []\n",
    "    for each in pos_script_actions:\n",
    "        pos_inputexamples.append(InputExample(texts=[topic, each], label=int(pos_label_digit)))\n",
    "        pos_examples.append([topic, each])\n",
    "    pos_labels = [pos_label_digit] * len(pos_examples)\n",
    "    \n",
    "    # neg\n",
    "    neg_examples = []\n",
    "    neg_inputexamples = []\n",
    "    for each in neg_script_actions:\n",
    "        neg_inputexamples.append(InputExample(texts=[topic, each], label=int(neg_label_digit)))\n",
    "        neg_examples.append([topic, each])\n",
    "    neg_labels = [neg_label_digit] * len(neg_examples)  \n",
    "    \n",
    "    training_inputexamples = pos_inputexamples + neg_inputexamples\n",
    "    training_examples = pos_examples + neg_examples\n",
    "    training_lables = pos_labels + neg_labels\n",
    "\n",
    "    \n",
    "    return training_inputexamples, training_examples, training_lables"
   ]
  },
  {
   "cell_type": "code",
   "execution_count": 21,
   "metadata": {},
   "outputs": [
    {
     "data": {
      "text/plain": [
       "[<sentence_transformers.readers.InputExample.InputExample at 0x7f29677662b0>,\n",
       " <sentence_transformers.readers.InputExample.InputExample at 0x7f2967702b50>,\n",
       " <sentence_transformers.readers.InputExample.InputExample at 0x7f2967702b80>,\n",
       " <sentence_transformers.readers.InputExample.InputExample at 0x7f2967702a90>,\n",
       " <sentence_transformers.readers.InputExample.InputExample at 0x7f2967702f70>,\n",
       " <sentence_transformers.readers.InputExample.InputExample at 0x7f2967702160>,\n",
       " <sentence_transformers.readers.InputExample.InputExample at 0x7f2967702e80>,\n",
       " <sentence_transformers.readers.InputExample.InputExample at 0x7f2967702fd0>,\n",
       " <sentence_transformers.readers.InputExample.InputExample at 0x7f2967702310>,\n",
       " <sentence_transformers.readers.InputExample.InputExample at 0x7f2967702400>,\n",
       " <sentence_transformers.readers.InputExample.InputExample at 0x7f29677023d0>,\n",
       " <sentence_transformers.readers.InputExample.InputExample at 0x7f2967702ca0>,\n",
       " <sentence_transformers.readers.InputExample.InputExample at 0x7f2967702ac0>,\n",
       " <sentence_transformers.readers.InputExample.InputExample at 0x7f2967702c70>,\n",
       " <sentence_transformers.readers.InputExample.InputExample at 0x7f2967766790>,\n",
       " <sentence_transformers.readers.InputExample.InputExample at 0x7f2967702d30>,\n",
       " <sentence_transformers.readers.InputExample.InputExample at 0x7f29677022e0>]"
      ]
     },
     "execution_count": 21,
     "metadata": {},
     "output_type": "execute_result"
    }
   ],
   "source": [
    "create_InputExample_for_topic(all_df, 1)"
   ]
  },
  {
   "cell_type": "code",
   "execution_count": 22,
   "metadata": {},
   "outputs": [],
   "source": [
    "train_InputExample = []\n",
    "for i in range(len(train_df)):    \n",
    "    train_InputExample += create_InputExample_for_topic(train_df, i)"
   ]
  },
  {
   "cell_type": "code",
   "execution_count": 23,
   "metadata": {},
   "outputs": [],
   "source": [
    "dev_InputExample = []\n",
    "for i in range(len(dev_df)):    \n",
    "    dev_InputExample += create_InputExample_for_topic(dev_df, i, neg_num = 20)"
   ]
  },
  {
   "cell_type": "code",
   "execution_count": 24,
   "metadata": {},
   "outputs": [],
   "source": [
    "test_inputexamples = []\n",
    "test_examples = []\n",
    "test_label = []\n",
    "for i in range(len(test_df)):    \n",
    "    test_inputexample, test_example, text_label = create_InputExample_for_topic_test_on_all(test_df, i)\n",
    "    test_inputexamples += test_inputexample\n",
    "    test_examples += test_example\n",
    "    test_label += text_label"
   ]
  },
  {
   "cell_type": "code",
   "execution_count": 25,
   "metadata": {},
   "outputs": [
    {
     "data": {
      "text/html": [
       "<div>\n",
       "<style scoped>\n",
       "    .dataframe tbody tr th:only-of-type {\n",
       "        vertical-align: middle;\n",
       "    }\n",
       "\n",
       "    .dataframe tbody tr th {\n",
       "        vertical-align: top;\n",
       "    }\n",
       "\n",
       "    .dataframe thead th {\n",
       "        text-align: right;\n",
       "    }\n",
       "</style>\n",
       "<table border=\"1\" class=\"dataframe\">\n",
       "  <thead>\n",
       "    <tr style=\"text-align: right;\">\n",
       "      <th></th>\n",
       "      <th>source</th>\n",
       "      <th>topic</th>\n",
       "      <th>text</th>\n",
       "      <th>longest_script</th>\n",
       "    </tr>\n",
       "  </thead>\n",
       "  <tbody>\n",
       "    <tr>\n",
       "      <th>0</th>\n",
       "      <td>proscript</td>\n",
       "      <td>throw a big party</td>\n",
       "      <td>[[decided to throw a big party, send out invit...</td>\n",
       "      <td>[decided to throw a big party, send out invite...</td>\n",
       "    </tr>\n",
       "    <tr>\n",
       "      <th>1</th>\n",
       "      <td>proscript</td>\n",
       "      <td>Make the food.</td>\n",
       "      <td>[[Preheat the oven., take vegetables out of re...</td>\n",
       "      <td>[Preheat the oven., take vegetables out of ref...</td>\n",
       "    </tr>\n",
       "    <tr>\n",
       "      <th>2</th>\n",
       "      <td>proscript</td>\n",
       "      <td>Sleep in bed.</td>\n",
       "      <td>[[Get in bed., Put covers over body, Close the...</td>\n",
       "      <td>[Get in bed., Put covers over body, Close the ...</td>\n",
       "    </tr>\n",
       "    <tr>\n",
       "      <th>3</th>\n",
       "      <td>wikihow</td>\n",
       "      <td>How to Clean a Litter Box?</td>\n",
       "      <td>[[Set up a trash can close by., Wear disposabl...</td>\n",
       "      <td>[Empty out the old litter., Scrub the empty li...</td>\n",
       "    </tr>\n",
       "    <tr>\n",
       "      <th>4</th>\n",
       "      <td>stories_xml</td>\n",
       "      <td>replace a refrigerator filter</td>\n",
       "      <td>[[find new filter ., remove old filter ., remo...</td>\n",
       "      <td>[move over to the fridge ., turn the fridge of...</td>\n",
       "    </tr>\n",
       "    <tr>\n",
       "      <th>...</th>\n",
       "      <td>...</td>\n",
       "      <td>...</td>\n",
       "      <td>...</td>\n",
       "      <td>...</td>\n",
       "    </tr>\n",
       "    <tr>\n",
       "      <th>374</th>\n",
       "      <td>wikihow</td>\n",
       "      <td>How to Save an Attachment to Your Computer?</td>\n",
       "      <td>[[Log into your e-mail account., Go to your in...</td>\n",
       "      <td>[Log into your e-mail account., Go to your inb...</td>\n",
       "    </tr>\n",
       "    <tr>\n",
       "      <th>375</th>\n",
       "      <td>wikihow</td>\n",
       "      <td>How to Cover up a Fart in High School Settings?</td>\n",
       "      <td>[[Pretend the fart was your shoe or chair., Pr...</td>\n",
       "      <td>[Pretend the fart was your shoe or chair., Pre...</td>\n",
       "    </tr>\n",
       "    <tr>\n",
       "      <th>376</th>\n",
       "      <td>proscript</td>\n",
       "      <td>get the tiller</td>\n",
       "      <td>[[kill any weeds, look for tiller, find the ti...</td>\n",
       "      <td>[kill any weeds, look for tiller, find the til...</td>\n",
       "    </tr>\n",
       "    <tr>\n",
       "      <th>377</th>\n",
       "      <td>wikihow</td>\n",
       "      <td>How to Prevent Stains on Dentures?</td>\n",
       "      <td>[[Purchase a denture cleaning product., Follow...</td>\n",
       "      <td>[Mix vinegar and water., Soak your dentures in...</td>\n",
       "    </tr>\n",
       "    <tr>\n",
       "      <th>378</th>\n",
       "      <td>wikihow</td>\n",
       "      <td>How to Get Rid of Dry Hair?</td>\n",
       "      <td>[[Wash your hair less often., Use less shampoo...</td>\n",
       "      <td>[Wash your hair less often., Use less shampoo....</td>\n",
       "    </tr>\n",
       "  </tbody>\n",
       "</table>\n",
       "<p>379 rows × 4 columns</p>\n",
       "</div>"
      ],
      "text/plain": [
       "          source                                            topic  \\\n",
       "0      proscript                                throw a big party   \n",
       "1      proscript                                   Make the food.   \n",
       "2      proscript                                    Sleep in bed.   \n",
       "3        wikihow                       How to Clean a Litter Box?   \n",
       "4    stories_xml                    replace a refrigerator filter   \n",
       "..           ...                                              ...   \n",
       "374      wikihow      How to Save an Attachment to Your Computer?   \n",
       "375      wikihow  How to Cover up a Fart in High School Settings?   \n",
       "376    proscript                                   get the tiller   \n",
       "377      wikihow               How to Prevent Stains on Dentures?   \n",
       "378      wikihow                      How to Get Rid of Dry Hair?   \n",
       "\n",
       "                                                  text  \\\n",
       "0    [[decided to throw a big party, send out invit...   \n",
       "1    [[Preheat the oven., take vegetables out of re...   \n",
       "2    [[Get in bed., Put covers over body, Close the...   \n",
       "3    [[Set up a trash can close by., Wear disposabl...   \n",
       "4    [[find new filter ., remove old filter ., remo...   \n",
       "..                                                 ...   \n",
       "374  [[Log into your e-mail account., Go to your in...   \n",
       "375  [[Pretend the fart was your shoe or chair., Pr...   \n",
       "376  [[kill any weeds, look for tiller, find the ti...   \n",
       "377  [[Purchase a denture cleaning product., Follow...   \n",
       "378  [[Wash your hair less often., Use less shampoo...   \n",
       "\n",
       "                                        longest_script  \n",
       "0    [decided to throw a big party, send out invite...  \n",
       "1    [Preheat the oven., take vegetables out of ref...  \n",
       "2    [Get in bed., Put covers over body, Close the ...  \n",
       "3    [Empty out the old litter., Scrub the empty li...  \n",
       "4    [move over to the fridge ., turn the fridge of...  \n",
       "..                                                 ...  \n",
       "374  [Log into your e-mail account., Go to your inb...  \n",
       "375  [Pretend the fart was your shoe or chair., Pre...  \n",
       "376  [kill any weeds, look for tiller, find the til...  \n",
       "377  [Mix vinegar and water., Soak your dentures in...  \n",
       "378  [Wash your hair less often., Use less shampoo....  \n",
       "\n",
       "[379 rows x 4 columns]"
      ]
     },
     "execution_count": 25,
     "metadata": {},
     "output_type": "execute_result"
    }
   ],
   "source": [
    "test_df"
   ]
  },
  {
   "cell_type": "code",
   "execution_count": 26,
   "metadata": {},
   "outputs": [],
   "source": [
    "all_sent = [] \n",
    "for i in range(len(test_df)):\n",
    "    scripts = test_df['longest_script'][i]\n",
    "    all_sent += scripts"
   ]
  },
  {
   "cell_type": "code",
   "execution_count": 27,
   "metadata": {},
   "outputs": [
    {
     "data": {
      "text/plain": [
       "2135"
      ]
     },
     "execution_count": 27,
     "metadata": {},
     "output_type": "execute_result"
    }
   ],
   "source": [
    "len(all_sent)"
   ]
  },
  {
   "cell_type": "code",
   "execution_count": 28,
   "metadata": {},
   "outputs": [
    {
     "data": {
      "text/plain": [
       "819777"
      ]
     },
     "execution_count": 28,
     "metadata": {},
     "output_type": "execute_result"
    }
   ],
   "source": [
    " 2163 *  379 "
   ]
  },
  {
   "cell_type": "code",
   "execution_count": 29,
   "metadata": {},
   "outputs": [
    {
     "data": {
      "text/plain": [
       "809165"
      ]
     },
     "execution_count": 29,
     "metadata": {},
     "output_type": "execute_result"
    }
   ],
   "source": [
    "len(test_examples)"
   ]
  },
  {
   "cell_type": "code",
   "execution_count": 30,
   "metadata": {},
   "outputs": [],
   "source": [
    "# # hard test - with all actions from test set\n",
    "# test_InputExample = []\n",
    "# for i in range(len(test_df)):    \n",
    "#     test_InputExample += create_InputExample_for_topic_hardtest(test_df, i)"
   ]
  },
  {
   "cell_type": "code",
   "execution_count": 31,
   "metadata": {},
   "outputs": [
    {
     "data": {
      "text/plain": [
       "379"
      ]
     },
     "execution_count": 31,
     "metadata": {},
     "output_type": "execute_result"
    }
   ],
   "source": [
    "len(test_df)"
   ]
  },
  {
   "cell_type": "code",
   "execution_count": 32,
   "metadata": {},
   "outputs": [
    {
     "data": {
      "text/plain": [
       "809165"
      ]
     },
     "execution_count": 32,
     "metadata": {},
     "output_type": "execute_result"
    }
   ],
   "source": [
    "len(test_inputexamples)"
   ]
  },
  {
   "cell_type": "code",
   "execution_count": 33,
   "metadata": {},
   "outputs": [],
   "source": [
    "# all 89839"
   ]
  },
  {
   "cell_type": "code",
   "execution_count": 34,
   "metadata": {},
   "outputs": [
    {
     "data": {
      "text/plain": [
       "47538"
      ]
     },
     "execution_count": 34,
     "metadata": {},
     "output_type": "execute_result"
    }
   ],
   "source": [
    "len(train_InputExample)"
   ]
  },
  {
   "cell_type": "code",
   "execution_count": 35,
   "metadata": {},
   "outputs": [
    {
     "data": {
      "text/plain": [
       "9756"
      ]
     },
     "execution_count": 35,
     "metadata": {},
     "output_type": "execute_result"
    }
   ],
   "source": [
    "len(dev_InputExample)"
   ]
  },
  {
   "cell_type": "code",
   "execution_count": 36,
   "metadata": {},
   "outputs": [],
   "source": [
    "#Configuration\n",
    "train_batch_size = 32\n",
    "num_epochs = 5\n",
    "model_save_path = './save_model/cross_encoder/'"
   ]
  },
  {
   "cell_type": "code",
   "execution_count": 37,
   "metadata": {},
   "outputs": [],
   "source": [
    "#We use distilroberta-base with a single label, i.e., it will output a value between 0 and 1 indicating the similarity of the two questions\n",
    "model = CrossEncoder('cross-encoder/ms-marco-MiniLM-L-6-v2', num_labels=1, device = use_device)"
   ]
  },
  {
   "cell_type": "code",
   "execution_count": 38,
   "metadata": {},
   "outputs": [],
   "source": [
    "# # load from trained\n",
    "# model = CrossEncoder(model_save_path, num_labels=1, device = use_device)"
   ]
  },
  {
   "cell_type": "code",
   "execution_count": 39,
   "metadata": {},
   "outputs": [],
   "source": [
    "# We wrap train_samples (which is a List[InputExample]) into a pytorch DataLoader\n",
    "train_dataloader = DataLoader(train_InputExample, shuffle=True, batch_size=train_batch_size)\n",
    "\n",
    "\n",
    "# We add an evaluator, which evaluates the performance during training\n",
    "evaluator = CEBinaryClassificationEvaluator.from_input_examples(dev_InputExample, name='ce-dev')"
   ]
  },
  {
   "cell_type": "code",
   "execution_count": 40,
   "metadata": {},
   "outputs": [
    {
     "name": "stdout",
     "output_type": "stream",
     "text": [
      "2023-06-26 00:41:24 - Warmup-steps: 1486\n"
     ]
    },
    {
     "data": {
      "application/vnd.jupyter.widget-view+json": {
       "model_id": "98693e7d2b2448a59f361ac0611330ea",
       "version_major": 2,
       "version_minor": 0
      },
      "text/plain": [
       "Epoch:   0%|          | 0/3 [00:00<?, ?it/s]"
      ]
     },
     "metadata": {},
     "output_type": "display_data"
    },
    {
     "data": {
      "application/vnd.jupyter.widget-view+json": {
       "model_id": "702fbdd2ef8344fdbfc04022cee7547e",
       "version_major": 2,
       "version_minor": 0
      },
      "text/plain": [
       "Iteration:   0%|          | 0/1486 [00:00<?, ?it/s]"
      ]
     },
     "metadata": {},
     "output_type": "display_data"
    },
    {
     "name": "stdout",
     "output_type": "stream",
     "text": [
      "2023-06-26 00:42:12 - CEBinaryClassificationEvaluator: Evaluating the model on ce-dev dataset after epoch 0:\n",
      "2023-06-26 00:42:14 - Accuracy:           90.88\t(Threshold: -0.7394)\n",
      "2023-06-26 00:42:14 - F1:                 94.22\t(Threshold: -0.7426)\n",
      "2023-06-26 00:42:14 - Precision:          92.57\n",
      "2023-06-26 00:42:14 - Recall:             95.93\n",
      "2023-06-26 00:42:14 - Average Precision:  98.33\n",
      "\n",
      "2023-06-26 00:42:14 - Save model to ./save_model/cross_encoder/\n"
     ]
    },
    {
     "data": {
      "application/vnd.jupyter.widget-view+json": {
       "model_id": "81858168992a4b87b4d92711337d6eb0",
       "version_major": 2,
       "version_minor": 0
      },
      "text/plain": [
       "Iteration:   0%|          | 0/1486 [00:00<?, ?it/s]"
      ]
     },
     "metadata": {},
     "output_type": "display_data"
    },
    {
     "name": "stdout",
     "output_type": "stream",
     "text": [
      "2023-06-26 00:43:00 - CEBinaryClassificationEvaluator: Evaluating the model on ce-dev dataset after epoch 1:\n",
      "2023-06-26 00:43:02 - Accuracy:           91.70\t(Threshold: -0.6806)\n",
      "2023-06-26 00:43:02 - F1:                 94.70\t(Threshold: -0.8134)\n",
      "2023-06-26 00:43:02 - Precision:          93.47\n",
      "2023-06-26 00:43:02 - Recall:             95.97\n",
      "2023-06-26 00:43:02 - Average Precision:  98.75\n",
      "\n",
      "2023-06-26 00:43:02 - Save model to ./save_model/cross_encoder/\n"
     ]
    },
    {
     "data": {
      "application/vnd.jupyter.widget-view+json": {
       "model_id": "d5533af76bb04f8da78b71f11e8e5c25",
       "version_major": 2,
       "version_minor": 0
      },
      "text/plain": [
       "Iteration:   0%|          | 0/1486 [00:00<?, ?it/s]"
      ]
     },
     "metadata": {},
     "output_type": "display_data"
    },
    {
     "name": "stdout",
     "output_type": "stream",
     "text": [
      "2023-06-26 00:43:48 - CEBinaryClassificationEvaluator: Evaluating the model on ce-dev dataset after epoch 2:\n",
      "2023-06-26 00:43:50 - Accuracy:           91.74\t(Threshold: -0.9053)\n",
      "2023-06-26 00:43:50 - F1:                 94.75\t(Threshold: -0.9053)\n",
      "2023-06-26 00:43:50 - Precision:          93.38\n",
      "2023-06-26 00:43:50 - Recall:             96.15\n",
      "2023-06-26 00:43:50 - Average Precision:  98.81\n",
      "\n",
      "2023-06-26 00:43:50 - Save model to ./save_model/cross_encoder/\n"
     ]
    }
   ],
   "source": [
    "# Configure the training\n",
    "# warmup_steps = math.ceil(len(train_dataloader) * num_epochs * 0.1) #10% of train data for warm-up\n",
    "warmup_steps = math.ceil(len(train_dataloader) ) # 1 epoch train data for warm-up\n",
    "logger.info(\"Warmup-steps: {}\".format(warmup_steps))\n",
    "\n",
    "\n",
    "# Train the model\n",
    "model.fit(train_dataloader=train_dataloader,\n",
    "          evaluator=evaluator,\n",
    "          epochs=3,\n",
    "          # epochs=num_epochs,\n",
    "          warmup_steps=warmup_steps,\n",
    "          save_best_model = True,\n",
    "          output_path=model_save_path)"
   ]
  },
  {
   "cell_type": "code",
   "execution_count": 41,
   "metadata": {},
   "outputs": [],
   "source": [
    "evaluator_test = CEBinaryClassificationEvaluator.from_input_examples(test_inputexamples, name='ce-test')"
   ]
  },
  {
   "cell_type": "code",
   "execution_count": 42,
   "metadata": {},
   "outputs": [
    {
     "name": "stdout",
     "output_type": "stream",
     "text": [
      "2023-06-26 00:43:50 - CEBinaryClassificationEvaluator: Evaluating the model on ce-test dataset:\n",
      "2023-06-26 00:46:52 - Accuracy:           99.76\t(Threshold: -5.3236)\n",
      "2023-06-26 00:46:52 - F1:                 99.88\t(Threshold: -5.3285)\n",
      "2023-06-26 00:46:52 - Precision:          99.79\n",
      "2023-06-26 00:46:52 - Recall:             99.97\n",
      "2023-06-26 00:46:52 - Average Precision:  99.99\n",
      "\n"
     ]
    },
    {
     "data": {
      "text/plain": [
       "0.9998840620094187"
      ]
     },
     "execution_count": 42,
     "metadata": {},
     "output_type": "execute_result"
    }
   ],
   "source": [
    "evaluator_test(model)"
   ]
  },
  {
   "cell_type": "code",
   "execution_count": 43,
   "metadata": {},
   "outputs": [
    {
     "data": {
      "application/vnd.jupyter.widget-view+json": {
       "model_id": "d04cd3e4cb2844a58634cc4c6a6bd0a9",
       "version_major": 2,
       "version_minor": 0
      },
      "text/plain": [
       "Batches:   0%|          | 0/25287 [00:00<?, ?it/s]"
      ]
     },
     "metadata": {},
     "output_type": "display_data"
    }
   ],
   "source": [
    "from torch import nn\n",
    "test_result = model.predict(test_examples, convert_to_numpy=True, activation_fct = nn.Sigmoid())"
   ]
  },
  {
   "cell_type": "code",
   "execution_count": 44,
   "metadata": {},
   "outputs": [
    {
     "data": {
      "text/plain": [
       "array([0.00272671, 0.07463657, 0.00469801, ..., 0.03782764, 0.02340425,\n",
       "       0.92015713], dtype=float32)"
      ]
     },
     "execution_count": 44,
     "metadata": {},
     "output_type": "execute_result"
    }
   ],
   "source": [
    "test_result"
   ]
  },
  {
   "cell_type": "code",
   "execution_count": 45,
   "metadata": {},
   "outputs": [],
   "source": [
    "# optim_threshold = -5.9335\n",
    "# optim_threshold = optim_threshold/100\n",
    "def threshold(digit):\n",
    "    result = 0\n",
    "    if digit >= 0.5:\n",
    "        result = 1\n",
    "    return result"
   ]
  },
  {
   "cell_type": "code",
   "execution_count": 46,
   "metadata": {},
   "outputs": [],
   "source": [
    "test_result_digit = [threshold(each) for each in test_result]"
   ]
  },
  {
   "cell_type": "code",
   "execution_count": 47,
   "metadata": {},
   "outputs": [],
   "source": [
    "# test_result_digit"
   ]
  },
  {
   "cell_type": "code",
   "execution_count": 48,
   "metadata": {},
   "outputs": [
    {
     "data": {
      "text/plain": [
       "0.508275862550875"
      ]
     },
     "execution_count": 48,
     "metadata": {},
     "output_type": "execute_result"
    }
   ],
   "source": [
    "from sklearn.metrics import f1_score\n",
    "f1_score(test_label, test_result_digit, average='macro')"
   ]
  },
  {
   "cell_type": "code",
   "execution_count": 49,
   "metadata": {},
   "outputs": [
    {
     "name": "stdout",
     "output_type": "stream",
     "text": [
      "Recall for class 0: 0.819672131147541\n"
     ]
    }
   ],
   "source": [
    "from sklearn.metrics import recall_score\n",
    "\n",
    "# Calculate recall for the class '0'\n",
    "recall = recall_score(test_label, test_result_digit, pos_label=0)\n",
    "\n",
    "print(f'Recall for class 0: {recall}')"
   ]
  },
  {
   "cell_type": "markdown",
   "metadata": {},
   "source": [
    "## Select test samples for empirical analysis"
   ]
  },
  {
   "cell_type": "code",
   "execution_count": 146,
   "metadata": {},
   "outputs": [],
   "source": [
    "# note: \n",
    "# pos_label_digit = 0\n",
    "# neg_label_digit = 1\n",
    "\n",
    "def threshold(digit):\n",
    "    result = 0\n",
    "    if digit >= 0.3: # set threshold\n",
    "        result = 1\n",
    "    return result"
   ]
  },
  {
   "cell_type": "code",
   "execution_count": 147,
   "metadata": {},
   "outputs": [
    {
     "data": {
      "text/plain": [
       "809165"
      ]
     },
     "execution_count": 147,
     "metadata": {},
     "output_type": "execute_result"
    }
   ],
   "source": [
    "len(test_result)"
   ]
  },
  {
   "cell_type": "code",
   "execution_count": 228,
   "metadata": {},
   "outputs": [],
   "source": [
    "test_inputexample, test_example, text_label = create_InputExample_for_topic_test_on_all(test_df, 1) # idx in testset"
   ]
  },
  {
   "cell_type": "code",
   "execution_count": 229,
   "metadata": {},
   "outputs": [
    {
     "data": {
      "application/vnd.jupyter.widget-view+json": {
       "model_id": "cba702069b2b44a1ac534694b8fd8f8f",
       "version_major": 2,
       "version_minor": 0
      },
      "text/plain": [
       "Batches:   0%|          | 0/67 [00:00<?, ?it/s]"
      ]
     },
     "metadata": {},
     "output_type": "display_data"
    }
   ],
   "source": [
    "test_sample_result = model.predict(test_example, convert_to_numpy=True, activation_fct = nn.Sigmoid())"
   ]
  },
  {
   "cell_type": "code",
   "execution_count": 230,
   "metadata": {},
   "outputs": [],
   "source": [
    "test_sample_result_digit = [threshold(each) for each in test_sample_result]"
   ]
  },
  {
   "cell_type": "code",
   "execution_count": 231,
   "metadata": {},
   "outputs": [],
   "source": [
    "selected_test_sample = [i for (i, v) in zip(test_example, test_sample_result_digit) if not v]"
   ]
  },
  {
   "cell_type": "code",
   "execution_count": 232,
   "metadata": {},
   "outputs": [],
   "source": [
    "true_test_sample = [i for (i, v) in zip(test_example, text_label) if not v] "
   ]
  },
  {
   "cell_type": "code",
   "execution_count": 233,
   "metadata": {},
   "outputs": [
    {
     "data": {
      "text/plain": [
       "2135"
      ]
     },
     "execution_count": 233,
     "metadata": {},
     "output_type": "execute_result"
    }
   ],
   "source": [
    "len(test_example)"
   ]
  },
  {
   "cell_type": "code",
   "execution_count": 234,
   "metadata": {},
   "outputs": [
    {
     "data": {
      "text/plain": [
       "8"
      ]
     },
     "execution_count": 234,
     "metadata": {},
     "output_type": "execute_result"
    }
   ],
   "source": [
    "len(true_test_sample)"
   ]
  },
  {
   "cell_type": "code",
   "execution_count": 235,
   "metadata": {},
   "outputs": [
    {
     "data": {
      "text/plain": [
       "[['Make the food.', 'Preheat the oven.'],\n",
       " ['Make the food.', 'take vegetables out of refrigerator'],\n",
       " ['Make the food.', 'take meat out of refrigerator'],\n",
       " ['Make the food.', 'chop and prep meat and vegetables'],\n",
       " ['Make the food.', 'sear meat in pan'],\n",
       " ['Make the food.', 'mix vegetables in with seared meat'],\n",
       " ['Make the food.', 'throw in the oven'],\n",
       " ['Make the food.', 'Make the food.']]"
      ]
     },
     "execution_count": 235,
     "metadata": {},
     "output_type": "execute_result"
    }
   ],
   "source": [
    "true_test_sample"
   ]
  },
  {
   "cell_type": "code",
   "execution_count": 236,
   "metadata": {},
   "outputs": [
    {
     "data": {
      "text/plain": [
       "179"
      ]
     },
     "execution_count": 236,
     "metadata": {},
     "output_type": "execute_result"
    }
   ],
   "source": [
    "len(selected_test_sample)"
   ]
  },
  {
   "cell_type": "code",
   "execution_count": 237,
   "metadata": {},
   "outputs": [
    {
     "data": {
      "text/plain": [
       "[['Make the food.', 'Preheat the oven.'],\n",
       " ['Make the food.', 'take vegetables out of refrigerator'],\n",
       " ['Make the food.', 'take meat out of refrigerator'],\n",
       " ['Make the food.', 'chop and prep meat and vegetables'],\n",
       " ['Make the food.', 'sear meat in pan'],\n",
       " ['Make the food.', 'mix vegetables in with seared meat'],\n",
       " ['Make the food.', 'throw in the oven'],\n",
       " ['Make the food.', 'Make the food.'],\n",
       " ['Make the food.', 'add party food to cart'],\n",
       " ['Make the food.', 'move over to the fridge .'],\n",
       " ['Make the food.', 'turn the fridge off .'],\n",
       " ['Make the food.', 'turn on the fridge .'],\n",
       " ['Make the food.',\n",
       "  'To toast your almonds, heat a dry fry pan and add the nuts.'],\n",
       " ['Make the food.',\n",
       "  'Peel & slice your banana into a bowl and top with ice cream.'],\n",
       " ['Make the food.', 'Add the sauce and toasted nuts.'],\n",
       " ['Make the food.', 'Make a plan for food intake.'],\n",
       " ['Make the food.', 'go inside .'],\n",
       " ['Make the food.', 'Bake a sweet casserole.'],\n",
       " ['Make the food.', 'Make sweet potato pancakes.'],\n",
       " ['Make the food.', 'Cook pudding.'],\n",
       " ['Make the food.', 'Bake sweet potato pie.'],\n",
       " ['Make the food.', 'Cook candied yams.'],\n",
       " ['Make the food.', 'walk to the cafeteria'],\n",
       " ['Make the food.', 'grab a tray'],\n",
       " ['Make the food.', 'put food on the tray'],\n",
       " ['Make the food.', 'Marinate the salmon.'],\n",
       " ['Make the food.', 'Cook your salmon.'],\n",
       " ['Make the food.', 'get cooked food out of the oven'],\n",
       " ['Make the food.', 'set food on cooling rack'],\n",
       " ['Make the food.', 'let baking pan rest on counter'],\n",
       " ['Make the food.', 'Grate or grind the spices as needed.'],\n",
       " ['Make the food.', 'Mix the ingredients together in a small mixing bowl.'],\n",
       " ['Make the food.', 'Use in your cooking.'],\n",
       " ['Make the food.', 'Finished.'],\n",
       " ['Make the food.', 'Get ready carefully.'],\n",
       " ['Make the food.', 'Dry the fish.'],\n",
       " ['Make the food.',\n",
       "  'Use special techniques for thick fish or high-heat cooking.'],\n",
       " ['Make the food.', 'Season the fish partway through cooking.'],\n",
       " ['Make the food.', 'Cook for twice as long as you would fresh fish.'],\n",
       " ['Make the food.', 'Make the cake.'],\n",
       " ['Make the food.',\n",
       "  'Mix the sugar and butter in a mixer until pale and fluffy.'],\n",
       " ['Make the food.',\n",
       "  'Leave to cool, occasionally stirring until slightly thickened.'],\n",
       " ['Make the food.', 'Finished.'],\n",
       " ['Make the food.', 'Pick a tomato.'],\n",
       " ['Make the food.', 'Set tomato on cutting board.'],\n",
       " ['Make the food.', 'Slice the tomato.'],\n",
       " ['Make the food.', 'Put tomato on plate.'],\n",
       " ['Make the food.', 'Sit down at table.'],\n",
       " ['Make the food.', 'eat a really good tomato'],\n",
       " ['Make the food.', 'Pour the milk into a heavy-based saucepan or pot.'],\n",
       " ['Make the food.', 'Bring to the boil.'],\n",
       " ['Make the food.', 'Add the flour gradually.'],\n",
       " ['Make the food.', 'Remove from the heat.'],\n",
       " ['Make the food.', 'Place rice in a microwave-safe container.'],\n",
       " ['Make the food.', 'Break up clumps with a fork.'],\n",
       " ['Make the food.', 'Cover the container with a plate or towel.'],\n",
       " ['Make the food.', 'Heat the rice.'],\n",
       " ['Make the food.', 'look for a recipe online'],\n",
       " ['Make the food.', 'chose a recipe'],\n",
       " ['Make the food.', 'gather the ingredients'],\n",
       " ['Make the food.', 'gather the cooking tools'],\n",
       " ['Make the food.', 'put together the ingredients'],\n",
       " ['Make the food.', 'cook the dish'],\n",
       " ['Make the food.', 'narrow down to 1 recipe'],\n",
       " ['Make the food.', 'print the recipe'],\n",
       " ['Make the food.', 'Fill an enamel pot or pan with salt water.'],\n",
       " ['Make the food.', 'Boil the salt water inside the pot the following day.'],\n",
       " ['Make the food.', 'Dump the water.'],\n",
       " ['Make the food.', 'Rinse the pot.'],\n",
       " ['Make the food.', 'Mix the ingredients together in a small bowl.'],\n",
       " ['Make the food.', 'Serve.'],\n",
       " ['Make the food.', 'Eat foods that contain keratin.'],\n",
       " ['Make the food.', 'Mix other objects with food.'],\n",
       " ['Make the food.', 'Get 1 yam.'],\n",
       " ['Make the food.', 'Choose the yam that you need for the recipe.'],\n",
       " ['Make the food.',\n",
       "  'Mix together the diced peaches, diced bananas and seedless grapes.'],\n",
       " ['Make the food.', 'Serve.'],\n",
       " ['Make the food.', 'Finished.'],\n",
       " ['Make the food.', 'Place the ingredients in a small slow cooker.'],\n",
       " ['Make the food.', 'Cover and cook until soft.'],\n",
       " ['Make the food.', 'Serve or use as desired.'],\n",
       " ['Make the food.', 'Stir.'],\n",
       " ['Make the food.', 'Serve.'],\n",
       " ['Make the food.', 'iron the whole item'],\n",
       " ['Make the food.', 'use starch if wanted'],\n",
       " ['Make the food.', 'decide what to eat'],\n",
       " ['Make the food.', 'Preheat the oven.'],\n",
       " ['Make the food.', 'Make the food.'],\n",
       " ['Make the food.', 'Set the table.'],\n",
       " ['Make the food.', 'Make some drinks.'],\n",
       " ['Make the food.', 'carry the grocery'],\n",
       " ['Make the food.', 'Put ingredients on kitchen counter'],\n",
       " ['Make the food.', 'Cut down on salt.'],\n",
       " ['Make the food.', 'Add fresh or frozen fruit to the batter.'],\n",
       " ['Make the food.', 'Replace dried with fresh fruit.'],\n",
       " ['Make the food.', 'Prepare the soil.'],\n",
       " ['Make the food.', 'Harvest.'],\n",
       " ['Make the food.', 'getting food .'],\n",
       " ['Make the food.', 'open food .'],\n",
       " ['Make the food.', 'get bowl .'],\n",
       " ['Make the food.', 'pour food into bowl .'],\n",
       " ['Make the food.', 'close food container .'],\n",
       " ['Make the food.', 'put food container away .'],\n",
       " ['Make the food.', 'Spread out.'],\n",
       " ['Make the food.', 'Use cloves to flavour food.'],\n",
       " ['Make the food.', 'Make drinks with cloves.'],\n",
       " ['Make the food.', 'Finished.'],\n",
       " ['Make the food.', 'Find a container.'],\n",
       " ['Make the food.', 'Reinforce the container, if you have time.'],\n",
       " ['Make the food.', 'Vomit into the container.'],\n",
       " ['Make the food.', 'Discard the container.'],\n",
       " ['Make the food.', 'locate food .'],\n",
       " ['Make the food.', 'open dog food .'],\n",
       " ['Make the food.', 'put dog food in dogs bowl .'],\n",
       " ['Make the food.', 'encourage dog to eat food .'],\n",
       " ['Make the food.', 'choose a recipe'],\n",
       " ['Make the food.', 'determine the ingredients'],\n",
       " ['Make the food.', 'walk towards fridge'],\n",
       " ['Make the food.', 'walk towards cabinet'],\n",
       " ['Make the food.', 'open the fridge'],\n",
       " ['Make the food.', 'open the cabinet'],\n",
       " ['Make the food.', 'gather the ingredients'],\n",
       " ['Make the food.', 'Prepare the cabbage.'],\n",
       " ['Make the food.', 'Cook the cabbage.'],\n",
       " ['Make the food.', 'Finished.'],\n",
       " ['Make the food.', 'decided to make a snack'],\n",
       " ['Make the food.', 'Determine which snack to make.'],\n",
       " ['Make the food.', 'Open the refrigerator door.'],\n",
       " ['Make the food.', 'Pull ingredients out of the fridge.'],\n",
       " ['Make the food.', 'Put the ingredients on the plate.'],\n",
       " ['Make the food.', 'Get a plate.'],\n",
       " ['Make the food.', 'make a snack'],\n",
       " ['Make the food.', 'race into kitchen for quick meal'],\n",
       " ['Make the food.', 'Include additives with store bought foods.'],\n",
       " ['Make the food.', 'make a garden'],\n",
       " ['Make the food.', 'Toss in olive oil.'],\n",
       " ['Make the food.', 'Heat the oven to 450 Fahrenheit (230 Celsius).'],\n",
       " ['Make the food.', 'Bake for 15 minutes and flip.'],\n",
       " ['Make the food.', 'Finished.'],\n",
       " ['Make the food.', 'Purchase sushi then open.'],\n",
       " ['Make the food.', 'try sushi for the first time today'],\n",
       " ['Make the food.', 'dust everything off'],\n",
       " ['Make the food.',\n",
       "  'Brown (cover) the beef with flour before putting it in the stew.'],\n",
       " ['Make the food.', 'Add the roux to the stew.'],\n",
       " ['Make the food.', 'Shake to combine.'],\n",
       " ['Make the food.', 'Garnish.'],\n",
       " ['Make the food.', 'walk towards the kitchen'],\n",
       " ['Make the food.', 'think about what to eat'],\n",
       " ['Make the food.', 'race into kitchen for quick meal'],\n",
       " ['Make the food.', 'Finished.'],\n",
       " ['Make the food.', 'Finished.'],\n",
       " ['Make the food.', 'Season the meat.'],\n",
       " ['Make the food.', 'Add more ingredients.'],\n",
       " ['Make the food.', 'Recombine your meat and marinade.'],\n",
       " ['Make the food.', 'Shorten your cooking time.'],\n",
       " ['Make the food.', 'Finished.'],\n",
       " ['Make the food.', 'Walk through entrance of grocery store.'],\n",
       " ['Make the food.', 'go to the grocery store before getting lunch'],\n",
       " ['Make the food.',\n",
       "  'Decide whether to peel the shrimp before or after cooking.'],\n",
       " ['Make the food.', 'have dirty dishes .'],\n",
       " ['Make the food.', 'rinse dishes .'],\n",
       " ['Make the food.', 'Use it when cooking meat for tacos.'],\n",
       " ['Make the food.', 'Sprinkle it over popcorn.'],\n",
       " ['Make the food.', 'Finished.'],\n",
       " ['Make the food.', 'look up grocery stores online'],\n",
       " ['Make the food.', 'choose a grocery store'],\n",
       " ['Make the food.', 'drive to the grocery store'],\n",
       " ['Make the food.', 'go into the grocery store'],\n",
       " ['Make the food.', 'go to the grocery store'],\n",
       " ['Make the food.',\n",
       "  'Clean your kitchen from top to bottom before attempting holiday baking or cooking.'],\n",
       " ['Make the food.', 'Stock up on baking supplies early in the season.'],\n",
       " ['Make the food.', 'Bake throughout the holiday season.'],\n",
       " ['Make the food.',\n",
       "  'Plan a holiday potluck party instead of baking all of the food.'],\n",
       " ['Make the food.', 'fill the sink .'],\n",
       " ['Make the food.', 'scrub each dish .'],\n",
       " ['Make the food.', 'rinse each dish .'],\n",
       " ['Make the food.', 'dry each dish .'],\n",
       " ['Make the food.', 'find the tiller'],\n",
       " ['Make the food.', 'get the tiller']]"
      ]
     },
     "execution_count": 237,
     "metadata": {},
     "output_type": "execute_result"
    }
   ],
   "source": [
    "selected_test_sample"
   ]
  },
  {
   "cell_type": "code",
   "execution_count": 203,
   "metadata": {},
   "outputs": [],
   "source": [
    "true_steps = [each[1] for each in true_test_sample]"
   ]
  },
  {
   "cell_type": "code",
   "execution_count": 204,
   "metadata": {},
   "outputs": [],
   "source": [
    "selected_steps = [each[1] for each in selected_test_sample]"
   ]
  },
  {
   "cell_type": "code",
   "execution_count": 205,
   "metadata": {},
   "outputs": [
    {
     "data": {
      "text/plain": [
       "2103"
      ]
     },
     "execution_count": 205,
     "metadata": {},
     "output_type": "execute_result"
    }
   ],
   "source": [
    "sum(test_sample_result_digit)"
   ]
  },
  {
   "cell_type": "code",
   "execution_count": 206,
   "metadata": {},
   "outputs": [],
   "source": [
    "# recall"
   ]
  },
  {
   "cell_type": "code",
   "execution_count": 207,
   "metadata": {},
   "outputs": [
    {
     "data": {
      "text/plain": [
       "1.0"
      ]
     },
     "execution_count": 207,
     "metadata": {},
     "output_type": "execute_result"
    }
   ],
   "source": [
    "sum(el in selected_steps for el in true_steps)/len(true_test_sample)"
   ]
  },
  {
   "cell_type": "code",
   "execution_count": null,
   "metadata": {},
   "outputs": [],
   "source": []
  },
  {
   "cell_type": "code",
   "execution_count": null,
   "metadata": {},
   "outputs": [],
   "source": []
  }
 ],
 "metadata": {
  "kernelspec": {
   "display_name": "Python 3 (ipykernel)",
   "language": "python",
   "name": "python3"
  },
  "language_info": {
   "codemirror_mode": {
    "name": "ipython",
    "version": 3
   },
   "file_extension": ".py",
   "mimetype": "text/x-python",
   "name": "python",
   "nbconvert_exporter": "python",
   "pygments_lexer": "ipython3",
   "version": "3.9.13"
  }
 },
 "nbformat": 4,
 "nbformat_minor": 4
}
