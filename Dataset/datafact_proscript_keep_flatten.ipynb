{
 "cells": [
  {
   "cell_type": "code",
   "execution_count": 1,
   "id": "d9d76920-0678-4544-99be-7e74ae4998ee",
   "metadata": {},
   "outputs": [],
   "source": [
    "import pandas as pd    "
   ]
  },
  {
   "cell_type": "code",
   "execution_count": 2,
   "id": "6b3c4b0d-4917-4b3d-bd86-40f9d97f31f3",
   "metadata": {},
   "outputs": [],
   "source": [
    "import networkx as nx"
   ]
  },
  {
   "cell_type": "code",
   "execution_count": 3,
   "id": "39bfb5a0-b03a-4983-a8c0-d62208f27afd",
   "metadata": {},
   "outputs": [],
   "source": [
    "proscript = pd.read_json(path_or_buf=\"./proscript_v1a/dev.jsonl\", lines=True)"
   ]
  },
  {
   "cell_type": "markdown",
   "id": "18d98c48-7fbd-422a-b67c-21cd14152e90",
   "metadata": {},
   "source": [
    "## Dataset format"
   ]
  },
  {
   "cell_type": "code",
   "execution_count": 4,
   "id": "88252e33-b0c1-484f-8ffa-9c2e6ae36ce7",
   "metadata": {},
   "outputs": [
    {
     "data": {
      "text/plain": [
       "'\\nlist of dictionary: \\n[\\n{topic: sentence,  \\n text: list[script_list_A[sentence1, sentence2], script_list_B[sentence3, sentence4], ... ];\\n }\\n]\\n'"
      ]
     },
     "execution_count": 4,
     "metadata": {},
     "output_type": "execute_result"
    }
   ],
   "source": [
    "'''\n",
    "list of dictionary: \n",
    "[\n",
    "{topic: sentence,  \n",
    " text: list[script_list_A[sentence1, sentence2], script_list_B[sentence3, sentence4], ... ];\n",
    " }\n",
    "]\n",
    "'''"
   ]
  },
  {
   "cell_type": "markdown",
   "id": "b40f4ac1-06a6-4cde-a87a-c78394303e6d",
   "metadata": {},
   "source": [
    "## proscript"
   ]
  },
  {
   "cell_type": "code",
   "execution_count": 5,
   "id": "0cb60ba5-68f5-40d4-b7ac-80a1fefa9da9",
   "metadata": {},
   "outputs": [
    {
     "data": {
      "text/html": [
       "<div>\n",
       "<style scoped>\n",
       "    .dataframe tbody tr th:only-of-type {\n",
       "        vertical-align: middle;\n",
       "    }\n",
       "\n",
       "    .dataframe tbody tr th {\n",
       "        vertical-align: top;\n",
       "    }\n",
       "\n",
       "    .dataframe thead th {\n",
       "        text-align: right;\n",
       "    }\n",
       "</style>\n",
       "<table border=\"1\" class=\"dataframe\">\n",
       "  <thead>\n",
       "    <tr style=\"text-align: right;\">\n",
       "      <th></th>\n",
       "      <th>scenario</th>\n",
       "      <th>events</th>\n",
       "      <th>context</th>\n",
       "      <th>minutes</th>\n",
       "      <th>events_minutes</th>\n",
       "      <th>flatten_input_for_edge_prediction</th>\n",
       "      <th>flatten_input_for_script_generation</th>\n",
       "      <th>flatten_output_for_edge_prediction</th>\n",
       "      <th>flatten_output_for_script_generation</th>\n",
       "      <th>gold_edges_for_prediction</th>\n",
       "    </tr>\n",
       "  </thead>\n",
       "  <tbody>\n",
       "    <tr>\n",
       "      <th>0</th>\n",
       "      <td>ride a train</td>\n",
       "      <td>{'0': 'walk to train to ride', '1': 'ask to bu...</td>\n",
       "      <td>NONE</td>\n",
       "      <td>13.0</td>\n",
       "      <td>{'0': 5.0, '1': 1.0, '2': 3.0, '3': 2.0, '4': ...</td>\n",
       "      <td>step0: walk to train to ride; step1: ask to bu...</td>\n",
       "      <td>You want to ride a train. How can you do this ...</td>\n",
       "      <td>step2 -&gt; step4; step4 -&gt; step1; step1 -&gt; step3...</td>\n",
       "      <td>step0: decided to ride a train; step1: walk to...</td>\n",
       "      <td>[0-&gt;6, 1-&gt;3, 2-&gt;4, 3-&gt;0, 4-&gt;1, 5-&gt;2]</td>\n",
       "    </tr>\n",
       "    <tr>\n",
       "      <th>1</th>\n",
       "      <td>win the minor league baseball</td>\n",
       "      <td>{'0': 'go to the locker room', '1': 'drive to ...</td>\n",
       "      <td>NONE</td>\n",
       "      <td>45.0</td>\n",
       "      <td>{'0': 5.0, '1': 30.0, '2': 5.0, '3': 10.0, '4'...</td>\n",
       "      <td>step0: go to the locker room; step1: drive to ...</td>\n",
       "      <td>You want to win the minor league baseball. How...</td>\n",
       "      <td>step4 -&gt; step1; step1 -&gt; step2; step2 -&gt; step0...</td>\n",
       "      <td>step0: decided to win the minor league basebal...</td>\n",
       "      <td>[0-&gt;3, 1-&gt;2, 2-&gt;0, 3-&gt;6, 4-&gt;1, 5-&gt;4]</td>\n",
       "    </tr>\n",
       "    <tr>\n",
       "      <th>2</th>\n",
       "      <td>catch a big marlin</td>\n",
       "      <td>{'0': 'gather fishing tools', '1': 'drive to t...</td>\n",
       "      <td>NONE</td>\n",
       "      <td>120.0</td>\n",
       "      <td>{'0': 15.0, '1': 45.0, '2': 5.0, '3': 5.0, '4'...</td>\n",
       "      <td>step0: gather fishing tools; step1: drive to t...</td>\n",
       "      <td>You want to catch a big marlin. How can you do...</td>\n",
       "      <td>step4 -&gt; step3; step3 -&gt; step0; step3 -&gt; step6...</td>\n",
       "      <td>step0: decided to catch a big marlin; step1: l...</td>\n",
       "      <td>[0-&gt;1, 1-&gt;5, 2-&gt;8, 3-&gt;0, 3-&gt;6, 4-&gt;3, 5-&gt;2, 6-&gt;...</td>\n",
       "    </tr>\n",
       "  </tbody>\n",
       "</table>\n",
       "</div>"
      ],
      "text/plain": [
       "                        scenario  \\\n",
       "0                   ride a train   \n",
       "1  win the minor league baseball   \n",
       "2             catch a big marlin   \n",
       "\n",
       "                                              events context  minutes  \\\n",
       "0  {'0': 'walk to train to ride', '1': 'ask to bu...    NONE     13.0   \n",
       "1  {'0': 'go to the locker room', '1': 'drive to ...    NONE     45.0   \n",
       "2  {'0': 'gather fishing tools', '1': 'drive to t...    NONE    120.0   \n",
       "\n",
       "                                      events_minutes  \\\n",
       "0  {'0': 5.0, '1': 1.0, '2': 3.0, '3': 2.0, '4': ...   \n",
       "1  {'0': 5.0, '1': 30.0, '2': 5.0, '3': 10.0, '4'...   \n",
       "2  {'0': 15.0, '1': 45.0, '2': 5.0, '3': 5.0, '4'...   \n",
       "\n",
       "                   flatten_input_for_edge_prediction  \\\n",
       "0  step0: walk to train to ride; step1: ask to bu...   \n",
       "1  step0: go to the locker room; step1: drive to ...   \n",
       "2  step0: gather fishing tools; step1: drive to t...   \n",
       "\n",
       "                 flatten_input_for_script_generation  \\\n",
       "0  You want to ride a train. How can you do this ...   \n",
       "1  You want to win the minor league baseball. How...   \n",
       "2  You want to catch a big marlin. How can you do...   \n",
       "\n",
       "                  flatten_output_for_edge_prediction  \\\n",
       "0  step2 -> step4; step4 -> step1; step1 -> step3...   \n",
       "1  step4 -> step1; step1 -> step2; step2 -> step0...   \n",
       "2  step4 -> step3; step3 -> step0; step3 -> step6...   \n",
       "\n",
       "                flatten_output_for_script_generation  \\\n",
       "0  step0: decided to ride a train; step1: walk to...   \n",
       "1  step0: decided to win the minor league basebal...   \n",
       "2  step0: decided to catch a big marlin; step1: l...   \n",
       "\n",
       "                           gold_edges_for_prediction  \n",
       "0               [0->6, 1->3, 2->4, 3->0, 4->1, 5->2]  \n",
       "1               [0->3, 1->2, 2->0, 3->6, 4->1, 5->4]  \n",
       "2  [0->1, 1->5, 2->8, 3->0, 3->6, 4->3, 5->2, 6->...  "
      ]
     },
     "execution_count": 5,
     "metadata": {},
     "output_type": "execute_result"
    }
   ],
   "source": [
    "proscript.head(3)"
   ]
  },
  {
   "cell_type": "code",
   "execution_count": 6,
   "id": "ac2d4047-d404-4ab5-a734-7c0df12e49fc",
   "metadata": {},
   "outputs": [
    {
     "data": {
      "text/html": [
       "<div>\n",
       "<style scoped>\n",
       "    .dataframe tbody tr th:only-of-type {\n",
       "        vertical-align: middle;\n",
       "    }\n",
       "\n",
       "    .dataframe tbody tr th {\n",
       "        vertical-align: top;\n",
       "    }\n",
       "\n",
       "    .dataframe thead th {\n",
       "        text-align: right;\n",
       "    }\n",
       "</style>\n",
       "<table border=\"1\" class=\"dataframe\">\n",
       "  <thead>\n",
       "    <tr style=\"text-align: right;\">\n",
       "      <th></th>\n",
       "      <th>scenario</th>\n",
       "      <th>events</th>\n",
       "      <th>context</th>\n",
       "      <th>minutes</th>\n",
       "      <th>events_minutes</th>\n",
       "      <th>flatten_input_for_edge_prediction</th>\n",
       "      <th>flatten_input_for_script_generation</th>\n",
       "      <th>flatten_output_for_edge_prediction</th>\n",
       "      <th>flatten_output_for_script_generation</th>\n",
       "      <th>gold_edges_for_prediction</th>\n",
       "    </tr>\n",
       "  </thead>\n",
       "  <tbody>\n",
       "    <tr>\n",
       "      <th>0</th>\n",
       "      <td>ride a train</td>\n",
       "      <td>{'0': 'walk to train to ride', '1': 'ask to bu...</td>\n",
       "      <td>NONE</td>\n",
       "      <td>13.0</td>\n",
       "      <td>{'0': 5.0, '1': 1.0, '2': 3.0, '3': 2.0, '4': ...</td>\n",
       "      <td>step0: walk to train to ride; step1: ask to bu...</td>\n",
       "      <td>You want to ride a train. How can you do this ...</td>\n",
       "      <td>step2 -&gt; step4; step4 -&gt; step1; step1 -&gt; step3...</td>\n",
       "      <td>step0: decided to ride a train; step1: walk to...</td>\n",
       "      <td>[0-&gt;6, 1-&gt;3, 2-&gt;4, 3-&gt;0, 4-&gt;1, 5-&gt;2]</td>\n",
       "    </tr>\n",
       "    <tr>\n",
       "      <th>1</th>\n",
       "      <td>win the minor league baseball</td>\n",
       "      <td>{'0': 'go to the locker room', '1': 'drive to ...</td>\n",
       "      <td>NONE</td>\n",
       "      <td>45.0</td>\n",
       "      <td>{'0': 5.0, '1': 30.0, '2': 5.0, '3': 10.0, '4'...</td>\n",
       "      <td>step0: go to the locker room; step1: drive to ...</td>\n",
       "      <td>You want to win the minor league baseball. How...</td>\n",
       "      <td>step4 -&gt; step1; step1 -&gt; step2; step2 -&gt; step0...</td>\n",
       "      <td>step0: decided to win the minor league basebal...</td>\n",
       "      <td>[0-&gt;3, 1-&gt;2, 2-&gt;0, 3-&gt;6, 4-&gt;1, 5-&gt;4]</td>\n",
       "    </tr>\n",
       "    <tr>\n",
       "      <th>2</th>\n",
       "      <td>catch a big marlin</td>\n",
       "      <td>{'0': 'gather fishing tools', '1': 'drive to t...</td>\n",
       "      <td>NONE</td>\n",
       "      <td>120.0</td>\n",
       "      <td>{'0': 15.0, '1': 45.0, '2': 5.0, '3': 5.0, '4'...</td>\n",
       "      <td>step0: gather fishing tools; step1: drive to t...</td>\n",
       "      <td>You want to catch a big marlin. How can you do...</td>\n",
       "      <td>step4 -&gt; step3; step3 -&gt; step0; step3 -&gt; step6...</td>\n",
       "      <td>step0: decided to catch a big marlin; step1: l...</td>\n",
       "      <td>[0-&gt;1, 1-&gt;5, 2-&gt;8, 3-&gt;0, 3-&gt;6, 4-&gt;3, 5-&gt;2, 6-&gt;...</td>\n",
       "    </tr>\n",
       "    <tr>\n",
       "      <th>3</th>\n",
       "      <td>make banana muffins</td>\n",
       "      <td>{'0': 'preheat the oven', '1': 'mix the dry in...</td>\n",
       "      <td>NONE</td>\n",
       "      <td>60.0</td>\n",
       "      <td>{'0': 0.5, '1': 5.0, '2': 5.0, '3': 10.0, '4':...</td>\n",
       "      <td>step0: preheat the oven; step1: mix the dry in...</td>\n",
       "      <td>You want to make banana muffins. How can you d...</td>\n",
       "      <td>step3 -&gt; step2; step2 -&gt; step1; step2 -&gt; step5...</td>\n",
       "      <td>step0: decided to make banana muffins; step1: ...</td>\n",
       "      <td>[0-&gt;6, 1-&gt;4, 2-&gt;1, 2-&gt;5, 3-&gt;2, 4-&gt;0, 5-&gt;4, 6-&gt;...</td>\n",
       "    </tr>\n",
       "    <tr>\n",
       "      <th>4</th>\n",
       "      <td>eat some food</td>\n",
       "      <td>{'0': 'Open the pizza packaging', '1': 'Drive ...</td>\n",
       "      <td>NONE</td>\n",
       "      <td>15.0</td>\n",
       "      <td>{'0': 0.16666666666666602, '1': 4.0, '2': 4.0,...</td>\n",
       "      <td>step0: Open the pizza packaging; step1: Drive ...</td>\n",
       "      <td>You want to eat some food. How can you do this...</td>\n",
       "      <td>step2 -&gt; step3; step3 -&gt; step1; step1 -&gt; step0...</td>\n",
       "      <td>step0: decided to eat some food; step1: Drive ...</td>\n",
       "      <td>[0-&gt;4, 1-&gt;0, 2-&gt;3, 3-&gt;1, 4-&gt;6, 5-&gt;2]</td>\n",
       "    </tr>\n",
       "    <tr>\n",
       "      <th>...</th>\n",
       "      <td>...</td>\n",
       "      <td>...</td>\n",
       "      <td>...</td>\n",
       "      <td>...</td>\n",
       "      <td>...</td>\n",
       "      <td>...</td>\n",
       "      <td>...</td>\n",
       "      <td>...</td>\n",
       "      <td>...</td>\n",
       "      <td>...</td>\n",
       "    </tr>\n",
       "    <tr>\n",
       "      <th>1080</th>\n",
       "      <td>stop and use the restroom before the show</td>\n",
       "      <td>{'0': 'use the facilities', '1': 'walk into th...</td>\n",
       "      <td>walk in and leave coat at coat check</td>\n",
       "      <td>5.0</td>\n",
       "      <td>{'0': 0.75, '1': 0.08333333333333301, '2': 0.0...</td>\n",
       "      <td>step0: use the facilities; step1: walk into th...</td>\n",
       "      <td>You want to stop and use the restroom before t...</td>\n",
       "      <td>step3 -&gt; step1; step1 -&gt; step2; step2 -&gt; step0...</td>\n",
       "      <td>step0: walk in and leave coat at coat check; s...</td>\n",
       "      <td>[0-&gt;4, 1-&gt;2, 2-&gt;0, 3-&gt;1, 4-&gt;6, 5-&gt;3]</td>\n",
       "    </tr>\n",
       "    <tr>\n",
       "      <th>1081</th>\n",
       "      <td>take notes about the subject</td>\n",
       "      <td>{'0': 'write with the pen on paper', '1': 'ope...</td>\n",
       "      <td>do research on the topic</td>\n",
       "      <td>30.0</td>\n",
       "      <td>{'0': 5.0, '1': 0.066666666666666, '2': 0.05, ...</td>\n",
       "      <td>step0: write with the pen on paper; step1: ope...</td>\n",
       "      <td>You want to take notes about the subject. How ...</td>\n",
       "      <td>step2 -&gt; step0; step1 -&gt; step2; step1 -&gt; step3...</td>\n",
       "      <td>step0: do research on the topic; step1: open t...</td>\n",
       "      <td>[0-&gt;4, 1-&gt;2, 1-&gt;3, 2-&gt;0, 3-&gt;0, 4-&gt;6, 5-&gt;1]</td>\n",
       "    </tr>\n",
       "    <tr>\n",
       "      <th>1082</th>\n",
       "      <td>walk to cashier with makeup selections.</td>\n",
       "      <td>{'0': 'look through make up', '1': 'locate che...</td>\n",
       "      <td>shop for makeup</td>\n",
       "      <td>2.0</td>\n",
       "      <td>{'0': 10.0, '1': 0.05, '2': 0.1666666666666660...</td>\n",
       "      <td>step0: look through make up; step1: locate che...</td>\n",
       "      <td>You want to walk to cashier with makeup select...</td>\n",
       "      <td>step0 -&gt; step4; step4 -&gt; step3; step3 -&gt; step2...</td>\n",
       "      <td>step0: shop for makeup; step1: look through ma...</td>\n",
       "      <td>[0-&gt;4, 1-&gt;6, 2-&gt;1, 3-&gt;2, 4-&gt;3, 5-&gt;0]</td>\n",
       "    </tr>\n",
       "    <tr>\n",
       "      <th>1083</th>\n",
       "      <td>walk towards the car</td>\n",
       "      <td>{'0': 'wiggle doorknob to confirm door is lock...</td>\n",
       "      <td>lock the front door</td>\n",
       "      <td>1.0</td>\n",
       "      <td>{'0': 0.08333333333333301, '1': 0.083333333333...</td>\n",
       "      <td>step0: wiggle doorknob to confirm door is lock...</td>\n",
       "      <td>You want to walk towards the car. How can you ...</td>\n",
       "      <td>step5 -&gt; step2; step2 -&gt; step0; step0 -&gt; step4...</td>\n",
       "      <td>step0: lock the front door; step1: Remove keys...</td>\n",
       "      <td>[0-&gt;4, 1-&gt;3, 2-&gt;0, 3-&gt;7, 4-&gt;1, 5-&gt;2, 6-&gt;5]</td>\n",
       "    </tr>\n",
       "    <tr>\n",
       "      <th>1084</th>\n",
       "      <td>compare lipstick choices</td>\n",
       "      <td>{'0': 'Skim over to a beauty blog', '1': 'go t...</td>\n",
       "      <td>read through reviews</td>\n",
       "      <td>2.0</td>\n",
       "      <td>{'0': 1.0, '1': 1.0, '2': 1.0, '3': 1.0, '4': ...</td>\n",
       "      <td>step0: Skim over to a beauty blog; step1: go t...</td>\n",
       "      <td>You want to compare lipstick choices. How can ...</td>\n",
       "      <td>step4 -&gt; step1; step1 -&gt; step2; step2 -&gt; step3...</td>\n",
       "      <td>step0: read through reviews; step1: Skim over ...</td>\n",
       "      <td>[0-&gt;4, 1-&gt;2, 2-&gt;3, 3-&gt;6, 4-&gt;1, 5-&gt;0]</td>\n",
       "    </tr>\n",
       "  </tbody>\n",
       "</table>\n",
       "<p>1085 rows × 10 columns</p>\n",
       "</div>"
      ],
      "text/plain": [
       "                                       scenario  \\\n",
       "0                                  ride a train   \n",
       "1                 win the minor league baseball   \n",
       "2                            catch a big marlin   \n",
       "3                           make banana muffins   \n",
       "4                                 eat some food   \n",
       "...                                         ...   \n",
       "1080  stop and use the restroom before the show   \n",
       "1081               take notes about the subject   \n",
       "1082    walk to cashier with makeup selections.   \n",
       "1083                       walk towards the car   \n",
       "1084                   compare lipstick choices   \n",
       "\n",
       "                                                 events  \\\n",
       "0     {'0': 'walk to train to ride', '1': 'ask to bu...   \n",
       "1     {'0': 'go to the locker room', '1': 'drive to ...   \n",
       "2     {'0': 'gather fishing tools', '1': 'drive to t...   \n",
       "3     {'0': 'preheat the oven', '1': 'mix the dry in...   \n",
       "4     {'0': 'Open the pizza packaging', '1': 'Drive ...   \n",
       "...                                                 ...   \n",
       "1080  {'0': 'use the facilities', '1': 'walk into th...   \n",
       "1081  {'0': 'write with the pen on paper', '1': 'ope...   \n",
       "1082  {'0': 'look through make up', '1': 'locate che...   \n",
       "1083  {'0': 'wiggle doorknob to confirm door is lock...   \n",
       "1084  {'0': 'Skim over to a beauty blog', '1': 'go t...   \n",
       "\n",
       "                                   context  minutes  \\\n",
       "0                                     NONE     13.0   \n",
       "1                                     NONE     45.0   \n",
       "2                                     NONE    120.0   \n",
       "3                                     NONE     60.0   \n",
       "4                                     NONE     15.0   \n",
       "...                                    ...      ...   \n",
       "1080  walk in and leave coat at coat check      5.0   \n",
       "1081              do research on the topic     30.0   \n",
       "1082                       shop for makeup      2.0   \n",
       "1083                   lock the front door      1.0   \n",
       "1084                  read through reviews      2.0   \n",
       "\n",
       "                                         events_minutes  \\\n",
       "0     {'0': 5.0, '1': 1.0, '2': 3.0, '3': 2.0, '4': ...   \n",
       "1     {'0': 5.0, '1': 30.0, '2': 5.0, '3': 10.0, '4'...   \n",
       "2     {'0': 15.0, '1': 45.0, '2': 5.0, '3': 5.0, '4'...   \n",
       "3     {'0': 0.5, '1': 5.0, '2': 5.0, '3': 10.0, '4':...   \n",
       "4     {'0': 0.16666666666666602, '1': 4.0, '2': 4.0,...   \n",
       "...                                                 ...   \n",
       "1080  {'0': 0.75, '1': 0.08333333333333301, '2': 0.0...   \n",
       "1081  {'0': 5.0, '1': 0.066666666666666, '2': 0.05, ...   \n",
       "1082  {'0': 10.0, '1': 0.05, '2': 0.1666666666666660...   \n",
       "1083  {'0': 0.08333333333333301, '1': 0.083333333333...   \n",
       "1084  {'0': 1.0, '1': 1.0, '2': 1.0, '3': 1.0, '4': ...   \n",
       "\n",
       "                      flatten_input_for_edge_prediction  \\\n",
       "0     step0: walk to train to ride; step1: ask to bu...   \n",
       "1     step0: go to the locker room; step1: drive to ...   \n",
       "2     step0: gather fishing tools; step1: drive to t...   \n",
       "3     step0: preheat the oven; step1: mix the dry in...   \n",
       "4     step0: Open the pizza packaging; step1: Drive ...   \n",
       "...                                                 ...   \n",
       "1080  step0: use the facilities; step1: walk into th...   \n",
       "1081  step0: write with the pen on paper; step1: ope...   \n",
       "1082  step0: look through make up; step1: locate che...   \n",
       "1083  step0: wiggle doorknob to confirm door is lock...   \n",
       "1084  step0: Skim over to a beauty blog; step1: go t...   \n",
       "\n",
       "                    flatten_input_for_script_generation  \\\n",
       "0     You want to ride a train. How can you do this ...   \n",
       "1     You want to win the minor league baseball. How...   \n",
       "2     You want to catch a big marlin. How can you do...   \n",
       "3     You want to make banana muffins. How can you d...   \n",
       "4     You want to eat some food. How can you do this...   \n",
       "...                                                 ...   \n",
       "1080  You want to stop and use the restroom before t...   \n",
       "1081  You want to take notes about the subject. How ...   \n",
       "1082  You want to walk to cashier with makeup select...   \n",
       "1083  You want to walk towards the car. How can you ...   \n",
       "1084  You want to compare lipstick choices. How can ...   \n",
       "\n",
       "                     flatten_output_for_edge_prediction  \\\n",
       "0     step2 -> step4; step4 -> step1; step1 -> step3...   \n",
       "1     step4 -> step1; step1 -> step2; step2 -> step0...   \n",
       "2     step4 -> step3; step3 -> step0; step3 -> step6...   \n",
       "3     step3 -> step2; step2 -> step1; step2 -> step5...   \n",
       "4     step2 -> step3; step3 -> step1; step1 -> step0...   \n",
       "...                                                 ...   \n",
       "1080  step3 -> step1; step1 -> step2; step2 -> step0...   \n",
       "1081  step2 -> step0; step1 -> step2; step1 -> step3...   \n",
       "1082  step0 -> step4; step4 -> step3; step3 -> step2...   \n",
       "1083  step5 -> step2; step2 -> step0; step0 -> step4...   \n",
       "1084  step4 -> step1; step1 -> step2; step2 -> step3...   \n",
       "\n",
       "                   flatten_output_for_script_generation  \\\n",
       "0     step0: decided to ride a train; step1: walk to...   \n",
       "1     step0: decided to win the minor league basebal...   \n",
       "2     step0: decided to catch a big marlin; step1: l...   \n",
       "3     step0: decided to make banana muffins; step1: ...   \n",
       "4     step0: decided to eat some food; step1: Drive ...   \n",
       "...                                                 ...   \n",
       "1080  step0: walk in and leave coat at coat check; s...   \n",
       "1081  step0: do research on the topic; step1: open t...   \n",
       "1082  step0: shop for makeup; step1: look through ma...   \n",
       "1083  step0: lock the front door; step1: Remove keys...   \n",
       "1084  step0: read through reviews; step1: Skim over ...   \n",
       "\n",
       "                              gold_edges_for_prediction  \n",
       "0                  [0->6, 1->3, 2->4, 3->0, 4->1, 5->2]  \n",
       "1                  [0->3, 1->2, 2->0, 3->6, 4->1, 5->4]  \n",
       "2     [0->1, 1->5, 2->8, 3->0, 3->6, 4->3, 5->2, 6->...  \n",
       "3     [0->6, 1->4, 2->1, 2->5, 3->2, 4->0, 5->4, 6->...  \n",
       "4                  [0->4, 1->0, 2->3, 3->1, 4->6, 5->2]  \n",
       "...                                                 ...  \n",
       "1080               [0->4, 1->2, 2->0, 3->1, 4->6, 5->3]  \n",
       "1081         [0->4, 1->2, 1->3, 2->0, 3->0, 4->6, 5->1]  \n",
       "1082               [0->4, 1->6, 2->1, 3->2, 4->3, 5->0]  \n",
       "1083         [0->4, 1->3, 2->0, 3->7, 4->1, 5->2, 6->5]  \n",
       "1084               [0->4, 1->2, 2->3, 3->6, 4->1, 5->0]  \n",
       "\n",
       "[1085 rows x 10 columns]"
      ]
     },
     "execution_count": 6,
     "metadata": {},
     "output_type": "execute_result"
    }
   ],
   "source": [
    "proscript"
   ]
  },
  {
   "cell_type": "code",
   "execution_count": 7,
   "id": "afa55c0a-8c2d-4b7e-a2a7-2613207cd6d8",
   "metadata": {},
   "outputs": [],
   "source": [
    "flatten_for_generation = proscript.iloc[0,-2]"
   ]
  },
  {
   "cell_type": "code",
   "execution_count": 8,
   "id": "9ace7001-bd3c-48fc-9690-dc7aed755dac",
   "metadata": {},
   "outputs": [
    {
     "data": {
      "text/plain": [
       "['step0: decided to win the minor league baseball',\n",
       " 'step1: get in the car',\n",
       " 'step2: drive to the baseball game',\n",
       " 'step3: park the car',\n",
       " 'step4: go to the locker room',\n",
       " 'step5: hype up teammates',\n",
       " 'step6: win the minor league baseball',\n",
       " 'step0 -> step1',\n",
       " 'step1 -> step2',\n",
       " 'step2 -> step3',\n",
       " 'step3 -> step4',\n",
       " 'step4 -> step5',\n",
       " 'step5 -> step6']"
      ]
     },
     "execution_count": 8,
     "metadata": {},
     "output_type": "execute_result"
    }
   ],
   "source": [
    "proscript.iloc[1,-2].split('; ')"
   ]
  },
  {
   "cell_type": "code",
   "execution_count": 9,
   "id": "d01c1439-d2fd-4b49-b0e4-418f8941983c",
   "metadata": {},
   "outputs": [
    {
     "data": {
      "text/plain": [
       "'step0: decided to catch a big marlin; step1: look up local fishing spots; step2: choose a fishing spot; step3: gather fishing tools; step4: gather fishing supplies; step5: drive to the fishing spot; step6: set up at the fishing spot; step7: reel a big marlin in; step8: catch a big marlin; step0 -> step1; step1 -> step2; step2 -> step3; step2 -> step4; step3 -> step5; step4 -> step5; step5 -> step6; step6 -> step7; step7 -> step8'"
      ]
     },
     "execution_count": 9,
     "metadata": {},
     "output_type": "execute_result"
    }
   ],
   "source": [
    "proscript.iloc[2,-2]"
   ]
  },
  {
   "cell_type": "code",
   "execution_count": 10,
   "id": "1a7b3c89-a967-45c1-8df9-bc6e25a664d2",
   "metadata": {},
   "outputs": [],
   "source": [
    "step_list = proscript.iloc[2,-2].split('; ')"
   ]
  },
  {
   "cell_type": "code",
   "execution_count": 11,
   "id": "fb195819-3931-4961-acee-b0c41f4245a2",
   "metadata": {},
   "outputs": [
    {
     "data": {
      "text/plain": [
       "['step0: decided to catch a big marlin',\n",
       " 'step1: look up local fishing spots',\n",
       " 'step2: choose a fishing spot',\n",
       " 'step3: gather fishing tools',\n",
       " 'step4: gather fishing supplies',\n",
       " 'step5: drive to the fishing spot',\n",
       " 'step6: set up at the fishing spot',\n",
       " 'step7: reel a big marlin in',\n",
       " 'step8: catch a big marlin']"
      ]
     },
     "execution_count": 11,
     "metadata": {},
     "output_type": "execute_result"
    }
   ],
   "source": [
    "[each for each in step_list if not '->' in each]"
   ]
  },
  {
   "cell_type": "code",
   "execution_count": 12,
   "id": "2f78423e-ff00-43a3-afd9-c21bbb377ae6",
   "metadata": {},
   "outputs": [
    {
     "data": {
      "text/plain": [
       "['decided to catch a big marlin',\n",
       " 'look up local fishing spots',\n",
       " 'choose a fishing spot',\n",
       " 'gather fishing tools',\n",
       " 'gather fishing supplies',\n",
       " 'drive to the fishing spot',\n",
       " 'set up at the fishing spot',\n",
       " 'reel a big marlin in',\n",
       " 'catch a big marlin']"
      ]
     },
     "execution_count": 12,
     "metadata": {},
     "output_type": "execute_result"
    }
   ],
   "source": [
    "[each.split(': ')[-1] for each in step_list if not '->' in each]"
   ]
  },
  {
   "cell_type": "code",
   "execution_count": 13,
   "id": "a726bf12-1a73-4bb2-85f3-0dea3c697d4f",
   "metadata": {},
   "outputs": [],
   "source": [
    "def convert_int(one_tuple):\n",
    "    return tuple(int(each) for each in one_tuple)"
   ]
  },
  {
   "cell_type": "code",
   "execution_count": 14,
   "id": "06ecf6ec-825c-42db-b0d4-79d376dbddb1",
   "metadata": {},
   "outputs": [],
   "source": [
    "def find_all_paths(graph, start, path=[]):\n",
    "    path = path + [start]\n",
    "    paths = [path]\n",
    "    if len(graph[start]) == 0:  # No neighbors\n",
    "        # print(path)\n",
    "        pass\n",
    "    for node in graph[start]:\n",
    "        newpaths = find_all_paths(graph, node, path)\n",
    "        for newpath in newpaths:\n",
    "            paths.append(newpath)\n",
    "    return paths\n",
    "\n",
    "def find_full_path(all_paths, end):\n",
    "    return [each for each in all_paths if each[-1] == end]"
   ]
  },
  {
   "cell_type": "code",
   "execution_count": 15,
   "id": "cf2a805f-5b0e-45d9-8919-15296a2765da",
   "metadata": {},
   "outputs": [],
   "source": [
    "def flatten_to_full_path(flatten_output_for_script_generation):\n",
    "    step_list = flatten_output_for_script_generation.split('; ')\n",
    "    step_ids = [each for each in step_list if '->' in each]\n",
    "    step_content = [each.split(': ')[-1] for each in step_list if not '->' in each] # split with :, keep latter part\n",
    "\n",
    "    return [step_content]"
   ]
  },
  {
   "cell_type": "code",
   "execution_count": 16,
   "id": "ccc85aa2-898e-498d-95c6-f523bac1a9e3",
   "metadata": {},
   "outputs": [
    {
     "data": {
      "text/plain": [
       "[['decided to catch a big marlin',\n",
       "  'look up local fishing spots',\n",
       "  'choose a fishing spot',\n",
       "  'gather fishing tools',\n",
       "  'gather fishing supplies',\n",
       "  'drive to the fishing spot',\n",
       "  'set up at the fishing spot',\n",
       "  'reel a big marlin in',\n",
       "  'catch a big marlin']]"
      ]
     },
     "execution_count": 16,
     "metadata": {},
     "output_type": "execute_result"
    }
   ],
   "source": [
    "flatten_to_full_path(proscript.iloc[2,-2])"
   ]
  },
  {
   "cell_type": "code",
   "execution_count": 17,
   "id": "c8810485-95c4-4eb2-a398-494e3b0a61d5",
   "metadata": {},
   "outputs": [
    {
     "data": {
      "text/plain": [
       "[['decided to ride a train',\n",
       "  'walk to ticket booth',\n",
       "  'walk up to booth',\n",
       "  'ask to buy ticket',\n",
       "  'pay for ticket',\n",
       "  'walk to train to ride',\n",
       "  'ride a train']]"
      ]
     },
     "execution_count": 17,
     "metadata": {},
     "output_type": "execute_result"
    }
   ],
   "source": [
    "flatten_to_full_path(proscript.iloc[0,-2])"
   ]
  },
  {
   "cell_type": "code",
   "execution_count": 18,
   "id": "5184f7d7-6bd5-4c2b-a717-0fa56de54726",
   "metadata": {
    "tags": []
   },
   "outputs": [],
   "source": [
    "# # test purpose\n",
    "# def find_full_paths_v(graph, start):\n",
    "#     full = []\n",
    "#     def find_all_paths(graph, start, path=[]):\n",
    "#         path = path + [start]\n",
    "#         paths = [path]\n",
    "#         if len(graph[start]) == 0:  # No neighbors\n",
    "#             # print(path)\n",
    "#             full.append(path)\n",
    "#         for node in graph[start]:\n",
    "#             newpaths = find_all_paths(graph, node, path)\n",
    "#             for newpath in newpaths:\n",
    "#                 paths.append(newpath)\n",
    "#         return paths\n",
    "#     all_paths = find_all_paths(graph, start)\n",
    "#     return full"
   ]
  },
  {
   "cell_type": "code",
   "execution_count": 19,
   "id": "c27128f9-dc91-4c59-9fb0-053f16e7019b",
   "metadata": {},
   "outputs": [],
   "source": [
    "all_proscript = [{'source': 'proscript', 'topic':proscript.iloc[i,0], 'text':flatten_to_full_path(proscript.iloc[i,-2])} for i in range(len(proscript))]"
   ]
  },
  {
   "cell_type": "code",
   "execution_count": 20,
   "id": "6bb7a975-6f07-4974-b5f2-f20fcd9aeb1c",
   "metadata": {},
   "outputs": [
    {
     "data": {
      "text/plain": [
       "1085"
      ]
     },
     "execution_count": 20,
     "metadata": {},
     "output_type": "execute_result"
    }
   ],
   "source": [
    "len(all_proscript)"
   ]
  },
  {
   "cell_type": "code",
   "execution_count": null,
   "id": "2f68e320-413f-4cbf-9930-46e90eaea745",
   "metadata": {},
   "outputs": [],
   "source": [
    "# [len(each['text']) for each in all_proscript]"
   ]
  },
  {
   "cell_type": "code",
   "execution_count": 22,
   "id": "68f920de-a359-4a13-8ca9-5edbecc4d381",
   "metadata": {},
   "outputs": [],
   "source": [
    "# all_proscript"
   ]
  },
  {
   "cell_type": "markdown",
   "id": "aa5ee2ea-2ea4-4750-99f5-42669c5ffd90",
   "metadata": {},
   "source": [
    "## OMICS"
   ]
  },
  {
   "cell_type": "code",
   "execution_count": 23,
   "id": "52177537-6c68-4a00-a0e6-8d85b5cc23f4",
   "metadata": {},
   "outputs": [],
   "source": [
    "import xml.etree.ElementTree as ET"
   ]
  },
  {
   "cell_type": "code",
   "execution_count": 24,
   "id": "de951a60-af90-41d0-aa82-9dedc13a36fa",
   "metadata": {},
   "outputs": [],
   "source": [
    "import glob\n",
    "import os\n",
    "OMICS_files = glob.glob('./datas/OMICS/*.xml')"
   ]
  },
  {
   "cell_type": "code",
   "execution_count": 25,
   "id": "39761cd8-806c-4672-a00c-dbc7ba11a115",
   "metadata": {},
   "outputs": [],
   "source": [
    "OMICS_files.sort()"
   ]
  },
  {
   "cell_type": "code",
   "execution_count": 26,
   "id": "68c385d5-c286-43be-93ac-1223711c1167",
   "metadata": {},
   "outputs": [
    {
     "data": {
      "text/plain": [
       "['./datas/OMICS/answer telephone.xml',\n",
       " './datas/OMICS/clean laundry.xml',\n",
       " './datas/OMICS/hear the door bell.xml',\n",
       " './datas/OMICS/iron clothes.xml',\n",
       " './datas/OMICS/make coffee.xml',\n",
       " './datas/OMICS/order fast food.xml',\n",
       " './datas/OMICS/restaurant.xml',\n",
       " './datas/OMICS/return food back.xml',\n",
       " './datas/OMICS/scrambled eggs.xml',\n",
       " './datas/OMICS/take bus.xml',\n",
       " './datas/OMICS/take shower.xml',\n",
       " './datas/OMICS/use microwave.xml',\n",
       " './datas/OMICS/use vending machine.xml']"
      ]
     },
     "execution_count": 26,
     "metadata": {},
     "output_type": "execute_result"
    }
   ],
   "source": [
    "OMICS_files"
   ]
  },
  {
   "cell_type": "code",
   "execution_count": 27,
   "id": "79e702c7-b120-495b-92e3-06528fdb6f1f",
   "metadata": {},
   "outputs": [],
   "source": [
    "def process_OMICS(one_file):\n",
    "    # file name is event name, remove xml\n",
    "    topic = os.path.basename(one_file)[:-4]\n",
    "    tree = ET.parse(one_file)\n",
    "    root = tree.getroot()    \n",
    "    \n",
    "    script_list = []\n",
    "    # iterate the tree\n",
    "    for child in root:\n",
    "        # child:  Element 'script' --> {'id': '1'}\n",
    "        sub_script_list = []\n",
    "        for sub in child:\n",
    "            # sub: Element 'item' --> {'slot': '1', 'text': 'find the phone .'}\n",
    "            sub_script_list.append(sub.attrib['text'])\n",
    "        script_list.append(sub_script_list)\n",
    "        \n",
    "    return {'source':'OMICS', 'topic': topic, 'text': script_list}"
   ]
  },
  {
   "cell_type": "code",
   "execution_count": 28,
   "id": "d940f1b2-298f-4b6e-b665-9101e617e9f4",
   "metadata": {},
   "outputs": [
    {
     "data": {
      "text/plain": [
       "{'source': 'OMICS',\n",
       " 'topic': 'answer telephone',\n",
       " 'text': [['find the phone .', 'pick up the phone .', 'say hello .'],\n",
       "  ['locate phone .',\n",
       "   'pick up receiver .',\n",
       "   'place receiver to ear .',\n",
       "   'say hello .'],\n",
       "  ['get phone .',\n",
       "   'pick up receiver .',\n",
       "   'place receiver to ear/speaker .',\n",
       "   'say hello .'],\n",
       "  ['go to the phone .', 'pick it up .', 'say hello .'],\n",
       "  ['hear the phone ring .', 'pick up the phone .', 'say hello .'],\n",
       "  ['pick up the receiver .'],\n",
       "  ['pick phone up .', 'push talk button .', 'answer phone .'],\n",
       "  ['taking the phone in hand .', 'pressing answer button .'],\n",
       "  ['move to phone .',\n",
       "   'pick up receiver .',\n",
       "   'say hello .',\n",
       "   'ask who is calling .'],\n",
       "  ['find the telephone .',\n",
       "   'pick up the telephone receiver .',\n",
       "   'speak a greeting into the receiver s microphone .'],\n",
       "  ['find the phone .',\n",
       "   'pick up the phone s receiver .',\n",
       "   \"speak a greeting such as 'hello' .\"],\n",
       "  ['walk to the phone .', 'pick up the receiver .', \"say 'hello' .\"],\n",
       "  ['hearing the phone ringing .',\n",
       "   'picking up the phone .',\n",
       "   \"answering the call by saying 'hello' .\"],\n",
       "  ['monitor the telephone .',\n",
       "   'if the telephone rings pick up the receiver .',\n",
       "   'greet the person that is calling .',\n",
       "   'converse with the caller .',\n",
       "   'assist the caller .',\n",
       "   'replace receiver upon conclusion of conversation .'],\n",
       "  ['hear the phone ring .', 'get the phone .', 'answer it .'],\n",
       "  ['go to the phone .', 'pick up the phone .', 'say hello .'],\n",
       "  ['find ringing telephone .',\n",
       "   'pick up the handset for the phone .',\n",
       "   \"press the 'talk' button .\",\n",
       "   'greet the person on the telephone .'],\n",
       "  ['when the phone rings pick up the receiver .',\n",
       "   'listen to the receiver .',\n",
       "   'greet the person that is calling .'],\n",
       "  ['walk in the direction of the phone .',\n",
       "   'lowe your arm and grab the receiver .',\n",
       "   'bring the receiver to your ear so that you may hear .',\n",
       "   'ask who is calling .'],\n",
       "  ['walk over to the phone .',\n",
       "   'pick up the receiver .',\n",
       "   'say a greeting .',\n",
       "   'listen .'],\n",
       "  ['go to phone .', 'pick up receiver .', 'press talk button .'],\n",
       "  ['walk to the phone .',\n",
       "   'pick up the receiver .',\n",
       "   'say a greeting .',\n",
       "   'listen .'],\n",
       "  ['go to phone .', 'pick up receiver .', 'press tak button .', 'say hi .'],\n",
       "  ['listen for the phone to ring .',\n",
       "   'lift the receiver from the base .',\n",
       "   'bring the receiver to your mouth and ear .',\n",
       "   'say hello .'],\n",
       "  ['go over to the phone .',\n",
       "   'pick up the receiver on the phone .',\n",
       "   'begin to speak to the person on the phone .'],\n",
       "  ['find the telephone .',\n",
       "   'pick up the telephone receiver .',\n",
       "   'say hello or some other greeting .',\n",
       "   'listen for someone on the telephone to speak .'],\n",
       "  ['hear the phone ring .', 'go to the phone .', 'pick up the phone .'],\n",
       "  ['hear the phone ring .',\n",
       "   'go to the phone .',\n",
       "   'pick up the phone .',\n",
       "   \"say 'hello?' .\",\n",
       "   'continue the conversation .'],\n",
       "  ['hear the ring .', 'locate receiver .', 'pick up receiver .'],\n",
       "  ['locate ringing phone .', 'pick up handset .', 'say hello .'],\n",
       "  ['hear the phone ring .',\n",
       "   'move to telephone .',\n",
       "   'pick up telephone horn .',\n",
       "   'state hello and name .',\n",
       "   'listen to telephone horn .'],\n",
       "  ['listen to telephone ringing .',\n",
       "   'move to telephone .',\n",
       "   'pick up reciever .',\n",
       "   'talk to receiver .'],\n",
       "  ['locate phone .',\n",
       "   'lift phone receiver .',\n",
       "   'say hello .',\n",
       "   'listen to response .'],\n",
       "  ['pick up the receiver .', 'say hello .'],\n",
       "  ['find phone .',\n",
       "   'go to phone .',\n",
       "   'pick up phone .',\n",
       "   'greet caller .',\n",
       "   'listen to caller .',\n",
       "   'respond to caller .',\n",
       "   'etc .'],\n",
       "  ['go to phone .',\n",
       "   'pick phone up .',\n",
       "   'press on button .',\n",
       "   \"answer with 'hello' .\"],\n",
       "  ['pick up receiver .', 'hold receiver to head .', 'say hello .'],\n",
       "  ['pick up receiver .', 'put receiver to ear .', 'say hello .'],\n",
       "  ['pick up the phone .', 'then say hello .'],\n",
       "  ['pick up receiver .',\n",
       "   'if necessary push talk button to answer phone .',\n",
       "   'put receiver to ear .',\n",
       "   'say  hello .'],\n",
       "  ['notice the phone ringing .',\n",
       "   'pickup handset .',\n",
       "   'press on or talk .',\n",
       "   \"say 'hello' .\"],\n",
       "  ['locate the phone .',\n",
       "   'pick up the receiver .',\n",
       "   \"say 'hello' into the mouthpiece .\"],\n",
       "  ['look at caller id .', 'pick up phone .', 'say hello .'],\n",
       "  ['hear ring .',\n",
       "   'see location .',\n",
       "   'go to location .',\n",
       "   'pick up reciever .',\n",
       "   'say hello .',\n",
       "   'listen for response .',\n",
       "   'recognize message .'],\n",
       "  ['pick up handset .', 'speak into the microphone .', 'say hello .'],\n",
       "  ['go to the phone .', 'pick up the handset .', \"say 'hello?' .\"],\n",
       "  ['locate rining phone .', 'pick up receiver .', \"say 'hello' .\"],\n",
       "  ['hear the telephone ring .',\n",
       "   'pick up the receiver .',\n",
       "   'press the talk button .',\n",
       "   'say hello into the mouthpiece while positioning the ear piece over your ear .'],\n",
       "  ['walk to phone .', 'pick up headset .', 'say hello .'],\n",
       "  ['pick up receiver .', 'say hello .'],\n",
       "  ['hear phone ringing .', 'go to sound .', 'get phone .'],\n",
       "  ['walk over to phone .', 'pick up receiver .'],\n",
       "  ['walk to phone .', 'pick up phone .', 'say hellow .'],\n",
       "  ['walk up to phone .',\n",
       "   'look at call display .',\n",
       "   'call your wife over .',\n",
       "   'tell her it s for her .',\n",
       "   'make her pick up receiver .',\n",
       "   'she says hello .',\n",
       "   'you drift away quietly .'],\n",
       "  ['pick up the handle .']]}"
      ]
     },
     "execution_count": 28,
     "metadata": {},
     "output_type": "execute_result"
    }
   ],
   "source": [
    "process_OMICS(OMICS_files[0])"
   ]
  },
  {
   "cell_type": "code",
   "execution_count": 29,
   "id": "e927eb11-2d58-45e8-a4c6-69b090c965ec",
   "metadata": {},
   "outputs": [],
   "source": [
    "all_OMICS = [process_OMICS(OMICS_files[i]) for i in range(len(OMICS_files))]"
   ]
  },
  {
   "cell_type": "code",
   "execution_count": 30,
   "id": "84ff270f-e4fb-48b4-b07b-30554922ed3c",
   "metadata": {},
   "outputs": [],
   "source": [
    "# all_OMICS"
   ]
  },
  {
   "cell_type": "code",
   "execution_count": 31,
   "id": "4b72de9f-ba15-44f0-9716-628bcc2319e6",
   "metadata": {},
   "outputs": [],
   "source": [
    "## pilot_esd"
   ]
  },
  {
   "cell_type": "code",
   "execution_count": 32,
   "id": "50e4bf1c-2541-4189-b0cb-0c5dd8959f41",
   "metadata": {},
   "outputs": [],
   "source": [
    "import glob\n",
    "import os\n",
    "pilot_esd_files = glob.glob('./datas/pilot_esd/*.xml')"
   ]
  },
  {
   "cell_type": "code",
   "execution_count": 33,
   "id": "cd0fa40e-e246-4e27-a851-bf2b532b55a3",
   "metadata": {},
   "outputs": [
    {
     "data": {
      "text/plain": [
       "['./datas/pilot_esd/washing ones hair.pilot.xml',\n",
       " './datas/pilot_esd/going to a funeral.pilot.xml',\n",
       " './datas/pilot_esd/taking a bath.pilot.xml',\n",
       " './datas/pilot_esd/fyling in an airplane.pilot.xml',\n",
       " './datas/pilot_esd/baking a cake.pilot.xml',\n",
       " './datas/pilot_esd/borrowing a book from the library.pilot.xml',\n",
       " './datas/pilot_esd/renovating a room.pilot.xml',\n",
       " './datas/pilot_esd/going to the swimming pool.pilot.xml',\n",
       " './datas/pilot_esd/going to the dentist.pilot.xml',\n",
       " './datas/pilot_esd/riding on a bus.pilot.xml']"
      ]
     },
     "execution_count": 33,
     "metadata": {},
     "output_type": "execute_result"
    }
   ],
   "source": [
    "pilot_esd_files"
   ]
  },
  {
   "cell_type": "code",
   "execution_count": 34,
   "id": "fc10b2b3-e1ca-41db-88db-8e980199e73d",
   "metadata": {},
   "outputs": [],
   "source": [
    "def process_pilot_esd(one_file):\n",
    "    \n",
    "    # file name is event name, remove .pilot.xml\n",
    "    topic = os.path.basename(one_file)[:-10]\n",
    "    tree = ET.parse(one_file)\n",
    "    root = tree.getroot()    \n",
    "    \n",
    "    script_list = []\n",
    "    # iterate the tree\n",
    "    for child in root:\n",
    "        # child:  Element 'scripts' --> {'id': '1', 'source': '1'}\n",
    "        sub_script_list = []\n",
    "        for sub in child:\n",
    "            # sub: Element 'item' -->{'slot': '1', 'original': 'Go to the bath room'}\n",
    "            sub_script_list.append(sub.attrib['original'])\n",
    "        script_list.append(sub_script_list)\n",
    "\n",
    "    return {'source':'pilot_esd', 'topic': topic, 'text': script_list}"
   ]
  },
  {
   "cell_type": "code",
   "execution_count": 35,
   "id": "42857d51-8b73-44b9-bb58-77eaaab82272",
   "metadata": {},
   "outputs": [
    {
     "data": {
      "text/plain": [
       "12"
      ]
     },
     "execution_count": 35,
     "metadata": {},
     "output_type": "execute_result"
    }
   ],
   "source": [
    "len(process_pilot_esd(pilot_esd_files[0])['text'])"
   ]
  },
  {
   "cell_type": "code",
   "execution_count": 36,
   "id": "1390f853-8d46-4f6f-91c1-07fe265b3eae",
   "metadata": {},
   "outputs": [],
   "source": [
    "all_pilot_esd = [process_pilot_esd(pilot_esd_files[i]) for i in range(len(pilot_esd_files))]"
   ]
  },
  {
   "cell_type": "code",
   "execution_count": 37,
   "id": "c2430938-83a3-4a81-9486-9b909c54968f",
   "metadata": {},
   "outputs": [],
   "source": [
    "# all_pilot_esd"
   ]
  },
  {
   "cell_type": "code",
   "execution_count": 38,
   "id": "4691b356-f41d-4f1b-8795-51a44cc8edbb",
   "metadata": {},
   "outputs": [],
   "source": [
    "## stories_xml"
   ]
  },
  {
   "cell_type": "code",
   "execution_count": 39,
   "id": "46b79105-b4e8-499d-a532-9cbafe4937f5",
   "metadata": {},
   "outputs": [],
   "source": [
    "stories_xml_files = glob.glob('./datas/stories_xml/*.xml')"
   ]
  },
  {
   "cell_type": "code",
   "execution_count": 40,
   "id": "b2e7eac9-ce2e-45f6-89b2-2880afe643c4",
   "metadata": {},
   "outputs": [
    {
     "data": {
      "text/plain": [
       "['./datas/stories_xml/clean_the_floor.xml',\n",
       " './datas/stories_xml/trash_an_object.xml',\n",
       " './datas/stories_xml/close_the_curtains.xml',\n",
       " './datas/stories_xml/pack_a_mailing_box.xml',\n",
       " './datas/stories_xml/greet_a_visitor.xml',\n",
       " './datas/stories_xml/move_furniture.xml',\n",
       " './datas/stories_xml/walk_the_dog.xml',\n",
       " './datas/stories_xml/get_food_from_refrigerator.xml',\n",
       " './datas/stories_xml/paint_a_wall.xml',\n",
       " './datas/stories_xml/turn_the_heat_off.xml',\n",
       " './datas/stories_xml/perform_research_on_specified_topic.xml',\n",
       " './datas/stories_xml/unclog_the_toilet.xml',\n",
       " './datas/stories_xml/get_mail.xml',\n",
       " './datas/stories_xml/feed_the_fish.xml',\n",
       " './datas/stories_xml/turn_music_system_on.xml',\n",
       " './datas/stories_xml/do_laundry.xml',\n",
       " './datas/stories_xml/draw_the_curtains.xml',\n",
       " './datas/stories_xml/find_the_time.xml',\n",
       " './datas/stories_xml/open_package.xml',\n",
       " './datas/stories_xml/watch_for_the_kids_to_come_home.xml',\n",
       " './datas/stories_xml/secure_all_exits.xml',\n",
       " './datas/stories_xml/find_an_object.xml',\n",
       " './datas/stories_xml/serve_a_meal.xml',\n",
       " './datas/stories_xml/replace_heater_filter.xml',\n",
       " './datas/stories_xml/clean_the_shower.xml',\n",
       " './datas/stories_xml/mow_the_lawn.xml',\n",
       " './datas/stories_xml/get_the_newspaper.xml',\n",
       " './datas/stories_xml/make_hot_dog.xml',\n",
       " './datas/stories_xml/retrieve_a_tool.xml',\n",
       " './datas/stories_xml/follow_someone_around.xml',\n",
       " './datas/stories_xml/open_the_mail.xml',\n",
       " './datas/stories_xml/give_a_message_to_someone_at_home.xml',\n",
       " './datas/stories_xml/entertain_children.xml',\n",
       " './datas/stories_xml/kick_a_ball.xml',\n",
       " './datas/stories_xml/check_if_a_store_is_open.xml',\n",
       " './datas/stories_xml/pack_a_suitcase.xml',\n",
       " './datas/stories_xml/cook_fish.xml',\n",
       " './datas/stories_xml/sweep_floor.xml',\n",
       " './datas/stories_xml/write_a_letter.xml',\n",
       " './datas/stories_xml/setup_presentation_equipment.xml',\n",
       " './datas/stories_xml/photocopy_a_paper.xml',\n",
       " './datas/stories_xml/make_a_bed.xml',\n",
       " './datas/stories_xml/make_soup.xml',\n",
       " './datas/stories_xml/take_a_photograph.xml',\n",
       " './datas/stories_xml/guard_the_house.xml',\n",
       " './datas/stories_xml/take_out_the_garbage.xml',\n",
       " './datas/stories_xml/call_911.xml',\n",
       " './datas/stories_xml/boil_the_milk.xml',\n",
       " './datas/stories_xml/tell_a_story.xml',\n",
       " './datas/stories_xml/open_a_web_page.xml',\n",
       " './datas/stories_xml/empty_the_trash.xml',\n",
       " './datas/stories_xml/find_out_more_information.xml',\n",
       " './datas/stories_xml/answer_the_doorbell.xml',\n",
       " './datas/stories_xml/sing_a_song.xml',\n",
       " './datas/stories_xml/access_the_internet.xml',\n",
       " './datas/stories_xml/take_care_of_plants.xml',\n",
       " './datas/stories_xml/secure_all_windows.xml',\n",
       " './datas/stories_xml/clean_the_table.xml',\n",
       " './datas/stories_xml/serve_a_drink.xml',\n",
       " './datas/stories_xml/cook_rice.xml',\n",
       " './datas/stories_xml/heat_food_in_microwave.xml',\n",
       " './datas/stories_xml/place_ladder_near_wall.xml',\n",
       " './datas/stories_xml/raise_the_blinds.xml',\n",
       " './datas/stories_xml/pour_beer_into_a_glass.xml',\n",
       " './datas/stories_xml/wash_clothes.xml',\n",
       " './datas/stories_xml/make_a_list.xml',\n",
       " './datas/stories_xml/turn_on_the_computer.xml',\n",
       " './datas/stories_xml/turn_the_air_conditioner_on.xml',\n",
       " './datas/stories_xml/assist_person_in_standing_up.xml',\n",
       " './datas/stories_xml/play_a_game_on_the_computer.xml',\n",
       " './datas/stories_xml/feed_a_pet_dog.xml',\n",
       " './datas/stories_xml/close_the_blinds.xml',\n",
       " './datas/stories_xml/cook_noodle.xml',\n",
       " './datas/stories_xml/shred_paper.xml',\n",
       " './datas/stories_xml/hang_clothes.xml',\n",
       " './datas/stories_xml/make_a_shopping_list.xml',\n",
       " './datas/stories_xml/handle_toxic_materials.xml',\n",
       " './datas/stories_xml/turn_tv_off.xml',\n",
       " './datas/stories_xml/turn_the_air_conditioner_off.xml',\n",
       " './datas/stories_xml/go_outside.xml',\n",
       " './datas/stories_xml/play_a_movie.xml',\n",
       " './datas/stories_xml/pick_up_dishes.xml',\n",
       " './datas/stories_xml/set_the_dining_table.xml',\n",
       " './datas/stories_xml/answer_the_phone.xml',\n",
       " './datas/stories_xml/send_a_fax.xml',\n",
       " './datas/stories_xml/turn_on_lights.xml',\n",
       " './datas/stories_xml/change_bed_sheets.xml',\n",
       " './datas/stories_xml/change_a_baby_diaper.xml',\n",
       " './datas/stories_xml/empty_the_kitchen_sink.xml',\n",
       " './datas/stories_xml/make_breakfast.xml',\n",
       " './datas/stories_xml/feed_a_child.xml',\n",
       " './datas/stories_xml/make_toasted_bread.xml',\n",
       " './datas/stories_xml/put_up_a_painting.xml',\n",
       " './datas/stories_xml/load_the_dishwasher.xml',\n",
       " './datas/stories_xml/put_object_away.xml',\n",
       " './datas/stories_xml/fetch_an_object.xml',\n",
       " './datas/stories_xml/fetch_a_cold_drink.xml',\n",
       " './datas/stories_xml/fill_water_in_container.xml',\n",
       " './datas/stories_xml/turn_the_heat_on.xml',\n",
       " './datas/stories_xml/make_tea.xml',\n",
       " './datas/stories_xml/recharge_batteries.xml',\n",
       " './datas/stories_xml/make_a_flight_reservation.xml',\n",
       " './datas/stories_xml/turn_off_lights.xml',\n",
       " './datas/stories_xml/replace_batteries_in_the_toy.xml',\n",
       " './datas/stories_xml/turn_off_the_computer.xml',\n",
       " './datas/stories_xml/make_sure_children_are_fed.xml',\n",
       " './datas/stories_xml/make_a_dinner_reservation.xml',\n",
       " './datas/stories_xml/make_fresh_orange_juice.xml',\n",
       " './datas/stories_xml/throw_an_object.xml',\n",
       " './datas/stories_xml/dry_clothes.xml',\n",
       " './datas/stories_xml/buy_from_vending_machine.xml',\n",
       " './datas/stories_xml/heat_food_on_kitchen_gas.xml',\n",
       " './datas/stories_xml/check_for_weather.xml',\n",
       " './datas/stories_xml/apply_band_aid.xml',\n",
       " './datas/stories_xml/keep_the_dog_away.xml',\n",
       " './datas/stories_xml/help_someone_carry_something.xml',\n",
       " './datas/stories_xml/plug_an_electric_applicance.xml',\n",
       " './datas/stories_xml/charge_a_cell_phone.xml',\n",
       " './datas/stories_xml/push_something.xml',\n",
       " './datas/stories_xml/read_a_story_to_a_child.xml',\n",
       " './datas/stories_xml/turn_tv_on.xml',\n",
       " './datas/stories_xml/cook_pasta.xml',\n",
       " './datas/stories_xml/fold_clothes.xml',\n",
       " './datas/stories_xml/turn_music_system_off.xml',\n",
       " './datas/stories_xml/iron_clothes.xml',\n",
       " './datas/stories_xml/make_baby_sleep.xml',\n",
       " './datas/stories_xml/open_the_garage.xml',\n",
       " './datas/stories_xml/clean_a_spill.xml',\n",
       " './datas/stories_xml/dance_with_the_children.xml',\n",
       " './datas/stories_xml/set_a_wake_up_alarm.xml',\n",
       " './datas/stories_xml/unload_the_dishwasher.xml',\n",
       " './datas/stories_xml/wrap_a_gift.xml',\n",
       " './datas/stories_xml/act_as_a_security_guard_at_office.xml',\n",
       " './datas/stories_xml/wash_cut.xml',\n",
       " './datas/stories_xml/teach_a_song_to_a_child.xml',\n",
       " './datas/stories_xml/give_a_message_to_someone_over_the_phone.xml',\n",
       " './datas/stories_xml/give_a_medicine.xml',\n",
       " './datas/stories_xml/fetch_a_ladder.xml',\n",
       " './datas/stories_xml/secure_the_perimeter_of_the_house.xml',\n",
       " './datas/stories_xml/send_party_invitations.xml',\n",
       " './datas/stories_xml/lock_up_the_house.xml',\n",
       " './datas/stories_xml/vacuum_the_carpet.xml',\n",
       " './datas/stories_xml/play_a_song.xml',\n",
       " './datas/stories_xml/replace_a_water_tap_filter.xml',\n",
       " './datas/stories_xml/sharpen_a_pencil.xml',\n",
       " './datas/stories_xml/water_indoor_plants.xml',\n",
       " './datas/stories_xml/lock_windows.xml',\n",
       " './datas/stories_xml/print_document.xml',\n",
       " './datas/stories_xml/replace_a_refrigerator_filter.xml',\n",
       " './datas/stories_xml/remove_and_replace_garbage_bag.xml',\n",
       " './datas/stories_xml/feed_a_pet_cat.xml',\n",
       " './datas/stories_xml/mail_a_letter.xml',\n",
       " './datas/stories_xml/clean_up_toys.xml',\n",
       " './datas/stories_xml/clean_up.xml',\n",
       " './datas/stories_xml/play_piano.xml',\n",
       " './datas/stories_xml/clean_the_dishes.xml',\n",
       " './datas/stories_xml/change_a_bulb.xml',\n",
       " './datas/stories_xml/assist_someone_in_walking.xml',\n",
       " './datas/stories_xml/push_someone_in_a_wheel_chair.xml',\n",
       " './datas/stories_xml/calm_an_infant.xml',\n",
       " './datas/stories_xml/erase_the_whiteboard.xml',\n",
       " './datas/stories_xml/making_omelette.xml',\n",
       " './datas/stories_xml/pay_bills.xml',\n",
       " './datas/stories_xml/make_coffee.xml',\n",
       " './datas/stories_xml/make_a_tossed_salad.xml',\n",
       " './datas/stories_xml/dust_an_object.xml',\n",
       " './datas/stories_xml/check_for_intruders_in_the_house.xml',\n",
       " './datas/stories_xml/make_a_presentation.xml',\n",
       " './datas/stories_xml/feed_infant.xml',\n",
       " './datas/stories_xml/gather_all_scattered_toys.xml',\n",
       " './datas/stories_xml/put_away_groceries.xml',\n",
       " './datas/stories_xml/plug_battery_into_charger.xml',\n",
       " './datas/stories_xml/find_a_person.xml',\n",
       " './datas/stories_xml/chop_vegetables.xml']"
      ]
     },
     "execution_count": 40,
     "metadata": {},
     "output_type": "execute_result"
    }
   ],
   "source": [
    "stories_xml_files"
   ]
  },
  {
   "cell_type": "code",
   "execution_count": 41,
   "id": "0aec8973-4e77-48fa-9ea4-517ff3e67fbd",
   "metadata": {},
   "outputs": [],
   "source": [
    "def process_stories_xml(one_file):\n",
    "    # file name is event name, remove xml\n",
    "    topic = os.path.basename(one_file)[:-4].replace('_',' ')\n",
    "    tree = ET.parse(one_file)\n",
    "    root = tree.getroot()    \n",
    "    \n",
    "    script_list = []\n",
    "    # iterate the tree\n",
    "    for child in root:\n",
    "        # child:  Element 'script' --> {'id': '1'}\n",
    "        sub_script_list = []\n",
    "        for sub in child:\n",
    "            # sub: Element 'item' --> {'slot': '1', 'text': 'find the phone .'}\n",
    "            sub_script_list.append(sub.attrib['text'])\n",
    "        script_list.append(sub_script_list)\n",
    "        \n",
    "    return {'source':'stories_xml', 'topic': topic, 'text': script_list}"
   ]
  },
  {
   "cell_type": "code",
   "execution_count": 42,
   "id": "ecbe4f5c-447c-4f4f-ae3d-0442e1d8ac4f",
   "metadata": {},
   "outputs": [
    {
     "data": {
      "text/plain": [
       "{'source': 'stories_xml',\n",
       " 'topic': 'clean the floor',\n",
       " 'text': [['find a bucket .',\n",
       "   'fill the buket with water .',\n",
       "   'find a mop .',\n",
       "   'dunk the mop in the bucket .',\n",
       "   'wipe the floor .'],\n",
       "  ['get broom .',\n",
       "   'sweep floor .',\n",
       "   'put away broom .',\n",
       "   'get mop .',\n",
       "   'get water .',\n",
       "   'mop floor .',\n",
       "   'put away mop and water .'],\n",
       "  ['make cleaning solvent using water and detergent .',\n",
       "   'place solvent in bucket .'],\n",
       "  ['get cleaning chemicals .',\n",
       "   'get a bucket of water .',\n",
       "   'get a mop .',\n",
       "   'dip mop in water .',\n",
       "   'spray chemicals on floor .',\n",
       "   'move mop over the floor .'],\n",
       "  ['take out the mop .',\n",
       "   'take out the mop bucket .',\n",
       "   'place water in the mop bucket .',\n",
       "   'dip the mop in the bucket .',\n",
       "   'run the mop over the floor .',\n",
       "   'put mop away when the floor is clean .'],\n",
       "  ['get mop .', 'wet mop .', 'mop the floor .', 'dry mop .'],\n",
       "  ['pick up any large objects .',\n",
       "   'sweep up any dust or small objects .',\n",
       "   'wash the floor with a mop and water .',\n",
       "   'let the floor dry .'],\n",
       "  ['fill a bucket with water .',\n",
       "   'add pinesol .',\n",
       "   'dip a mop into the water .',\n",
       "   'squeeze excess water from the mop .',\n",
       "   'run the mop over the entire floor .',\n",
       "   'empty the bucket into the tub .',\n",
       "   'replace the bucket and mop .'],\n",
       "  ['get mop and water .',\n",
       "   'wet mop removing excess water .',\n",
       "   'wipe floor with mop .',\n",
       "   'if mop get dirty go to step 2 until floor is clean .'],\n",
       "  ['locate a mop .',\n",
       "   'locate a bucket .',\n",
       "   'locate soap .',\n",
       "   'fill the bucket with water .',\n",
       "   'add soap to the water in the bucket .',\n",
       "   'utilize mop to spread soapy water across floor .'],\n",
       "  ['find broom and dustpan .',\n",
       "   'sweep dirt on floor into dustpan .',\n",
       "   'throw gathered dirt in the trash .'],\n",
       "  ['get a mop .',\n",
       "   'get bucket of water with detergent .',\n",
       "   'put the mop in the bucket .',\n",
       "   'use the mop to clean the floor .',\n",
       "   'refresh the mop in the bucket .'],\n",
       "  ['place mop into bucket .', 'place mop on floor .', 'mop floor .'],\n",
       "  ['broom the floor .',\n",
       "   'mop the floor .',\n",
       "   'dry the floor .',\n",
       "   'apply wax to shine the floor .'],\n",
       "  ['get mop .', 'wet the mop .', 'mop the floor .'],\n",
       "  ['get mop .', 'wet the mop .', 'mop the floor .'],\n",
       "  ['pick up the objects on the floor .',\n",
       "   'sweep the floor with a broom .',\n",
       "   'fill a mop bucket with water .',\n",
       "   'put the mop in the water .',\n",
       "   'squeeze out the mop .',\n",
       "   'run the mop over the floor .',\n",
       "   'wash the mop .'],\n",
       "  ['get broom and dustpan .',\n",
       "   'place dustpan on floor .',\n",
       "   'sweep dirt into dustpan using broom .',\n",
       "   'empty dustpan into trashcan .',\n",
       "   'repeat 2 through 4 until floor is clean .'],\n",
       "  ['clear the floor .',\n",
       "   'vacuum the floor .',\n",
       "   'wash the floor .',\n",
       "   'replace furniture .'],\n",
       "  ['sweep floor .', 'vacuum floor .'],\n",
       "  ['pick up objects .'],\n",
       "  ['pick up objects .'],\n",
       "  ['place washrag assigned for floor washing in a bucket of soapy water .',\n",
       "   'use assigned washrag to wash the dirty floor .',\n",
       "   'rinse washrag to remove dirt from it periodicly in bucket of water .'],\n",
       "  ['place washrag assigned for floor washing in a bucket of soapy water .',\n",
       "   'use assigned washrag to wash the dirty floor .',\n",
       "   'rinse washrag to remove dirt from it periodicly in bucket of water .'],\n",
       "  ['sweep the floor .',\n",
       "   'sweep crumbs into a dust pan .',\n",
       "   'toss crumbs in the trash .',\n",
       "   'take out mop .',\n",
       "   'put warm water and dime size amount of soap in bucket .',\n",
       "   'put mop in bucket .',\n",
       "   'put mop on floor clean in straight pattern .'],\n",
       "  ['identify the floor type .',\n",
       "   'pick one of the following: .',\n",
       "   'vacuum dry messes on carpets .',\n",
       "   'mop up wet or hard to get off spills on solid floors with a mop .',\n",
       "   'sweep loose debris on solid floors with a broom .'],\n",
       "  ['pick up large objects off the floor .',\n",
       "   'if the floor is carpeted vacuum it .',\n",
       "   'if the floor is a hard surface sweep it and then mop it .'],\n",
       "  ['pick up large objects off the floor .',\n",
       "   'if the floor is carpeted vacuum it .',\n",
       "   'if the floor is a hard surface sweep it and then mop it .'],\n",
       "  ['pick up large objects off the floor .',\n",
       "   'if the floor is carpeted vacuum it .',\n",
       "   'if the floor is a hard surface sweep it and then mop it .'],\n",
       "  ['pick up large objects off the floor .',\n",
       "   'if the floor is carpeted vacuum it .',\n",
       "   'if the floor is a hard surface sweep it and then mop it .'],\n",
       "  ['pick up large objects off the floor .',\n",
       "   'if the floor is carpeted vacuum it .',\n",
       "   'if the floor is a hard surface sweep it and then mop it .'],\n",
       "  ['pick up large objects off the floor .',\n",
       "   'if the floor is carpeted vacuum it .',\n",
       "   'if the floor is a hard surface sweep it and then mop it .'],\n",
       "  ['pick up large objects off the floor .',\n",
       "   'if the floor is carpeted vacuum it .',\n",
       "   'if the floor is a hard surface sweep it and then mop it .'],\n",
       "  ['pick up large objects off the floor .',\n",
       "   'if the floor is carpeted vacuum it .',\n",
       "   'if the floor is a hard surface sweep it and then mop it .'],\n",
       "  ['pick up large objects off the floor .',\n",
       "   'if the floor is carpeted vacuum it .',\n",
       "   'if the floor is a hard surface sweep it and then mop it .'],\n",
       "  ['pick up large objects off the floor .',\n",
       "   'if the floor is carpeted vacuum it .',\n",
       "   'if the floor is a hard surface sweep it and then mop it .'],\n",
       "  ['pick up large objects off the floor .',\n",
       "   'if the floor is carpeted vacuum it .',\n",
       "   'if the floor is a hard surface sweep it and then mop it .'],\n",
       "  ['pick up large objects off the floor .',\n",
       "   'if the floor is carpeted vacuum it .',\n",
       "   'if the floor is a hard surface sweep it and then mop it .'],\n",
       "  ['pick up large objects off the floor .',\n",
       "   'if the floor is carpeted vacuum it .',\n",
       "   'if the floor is a hard surface sweep it and then mop it .'],\n",
       "  ['pick up large objects off the floor .',\n",
       "   'if the floor is carpeted vacuum it .',\n",
       "   'if the floor is a hard surface sweep it and then mop it .'],\n",
       "  ['clean floor .'],\n",
       "  ['sweep floor with broom .',\n",
       "   'gather dirt into dustbin .',\n",
       "   'dispose of dirt .',\n",
       "   'mop floor with soapy water .',\n",
       "   'let floor dry .'],\n",
       "  ['sweep floor with broom .',\n",
       "   'gather dirt into dustbin .',\n",
       "   'dispose of dirt .',\n",
       "   'mop floor with soapy water .',\n",
       "   'let floor dry .'],\n",
       "  ['get vacuum cleaner .',\n",
       "   'attach appropriate attachment .',\n",
       "   'pull cord out all the way .',\n",
       "   'plug cord into nearby outlet .',\n",
       "   'turn vacuum on .',\n",
       "   'run vacuum attachment over entire floor .',\n",
       "   'turn vacuum off unplug and put away .'],\n",
       "  ['get vacuum cleaner .',\n",
       "   'attach appropriate attachment .',\n",
       "   'pull cord out all the way .',\n",
       "   'plug cord into nearby outlet .',\n",
       "   'turn vacuum on .',\n",
       "   'run vacuum attachment over entire floor .',\n",
       "   'turn vacuum off unplug and put away .'],\n",
       "  ['get vacuum cleaner .',\n",
       "   'attach appropriate attachment .',\n",
       "   'pull cord out all the way .',\n",
       "   'plug cord into nearby outlet .',\n",
       "   'turn vacuum on .',\n",
       "   'run vacuum attachment over entire floor .',\n",
       "   'turn vacuum off unplug and put away .'],\n",
       "  ['get vacuum cleaner .',\n",
       "   'attach appropriate attachment .',\n",
       "   'pull cord out all the way .',\n",
       "   'plug cord into nearby outlet .',\n",
       "   'turn vacuum on .',\n",
       "   'run vacuum attachment over entire floor .',\n",
       "   'turn vacuum off unplug and put away .'],\n",
       "  ['wet mop .', 'swipe floor .', 'wash mop .'],\n",
       "  ['take lysol .', 'spray it on floor .', 'mop the floor .'],\n",
       "  ['vaccuum floor .', 'go over floor with wetjet .']]}"
      ]
     },
     "execution_count": 42,
     "metadata": {},
     "output_type": "execute_result"
    }
   ],
   "source": [
    "process_stories_xml(stories_xml_files[0])"
   ]
  },
  {
   "cell_type": "code",
   "execution_count": 43,
   "id": "6a0879bd-8826-4ad1-b392-f38c8c71c0bb",
   "metadata": {},
   "outputs": [],
   "source": [
    "all_stories = [process_stories_xml(stories_xml_files[i]) for i in range(len(stories_xml_files))]"
   ]
  },
  {
   "cell_type": "code",
   "execution_count": 44,
   "id": "35159605-680f-4ab5-9962-984cced33711",
   "metadata": {},
   "outputs": [],
   "source": [
    "# all_stories"
   ]
  },
  {
   "cell_type": "code",
   "execution_count": 45,
   "id": "1b298ef4-bc79-4fd0-ab2e-fffd63a3a728",
   "metadata": {},
   "outputs": [],
   "source": [
    "## wiki how"
   ]
  },
  {
   "cell_type": "code",
   "execution_count": 46,
   "id": "630e01b6-7e89-4e18-9c17-e6c1982d2d28",
   "metadata": {},
   "outputs": [],
   "source": [
    "import pandas as pd\n",
    "wikihow1 = pd.read_json(path_or_buf=\"./SubeventWriter_wikihow/datasets/WikiHow_data_for_Seq2SeqLM/sentence_test_42.json\", lines=True)"
   ]
  },
  {
   "cell_type": "code",
   "execution_count": 47,
   "id": "0636882f-b5ae-49bf-930d-aa3a69dfc2a3",
   "metadata": {},
   "outputs": [
    {
     "data": {
      "text/html": [
       "<div>\n",
       "<style scoped>\n",
       "    .dataframe tbody tr th:only-of-type {\n",
       "        vertical-align: middle;\n",
       "    }\n",
       "\n",
       "    .dataframe tbody tr th {\n",
       "        vertical-align: top;\n",
       "    }\n",
       "\n",
       "    .dataframe thead th {\n",
       "        text-align: right;\n",
       "    }\n",
       "</style>\n",
       "<table border=\"1\" class=\"dataframe\">\n",
       "  <thead>\n",
       "    <tr style=\"text-align: right;\">\n",
       "      <th></th>\n",
       "      <th>id</th>\n",
       "      <th>title</th>\n",
       "      <th>original_title</th>\n",
       "      <th>subevents</th>\n",
       "      <th>source</th>\n",
       "    </tr>\n",
       "  </thead>\n",
       "  <tbody>\n",
       "    <tr>\n",
       "      <th>0</th>\n",
       "      <td>52826</td>\n",
       "      <td>How to Make a Felt Heart Card?</td>\n",
       "      <td>How to Make a Felt Heart Card</td>\n",
       "      <td>[Start by preparing the card., Measure the hea...</td>\n",
       "      <td>summarization</td>\n",
       "    </tr>\n",
       "    <tr>\n",
       "      <th>1</th>\n",
       "      <td>68152</td>\n",
       "      <td>How to Sell Jewelry at Flea Markets?</td>\n",
       "      <td>How to Sell Jewelry at Flea Markets</td>\n",
       "      <td>[Explore flea markets in your area., Network w...</td>\n",
       "      <td>summarization</td>\n",
       "    </tr>\n",
       "    <tr>\n",
       "      <th>2</th>\n",
       "      <td>49263</td>\n",
       "      <td>How to Make Money Cooking in Runescape?</td>\n",
       "      <td>How to Make Money Cooking in Runescape</td>\n",
       "      <td>[Acknowledge that higher skill levels will ben...</td>\n",
       "      <td>summarization</td>\n",
       "    </tr>\n",
       "    <tr>\n",
       "      <th>3</th>\n",
       "      <td>975</td>\n",
       "      <td>How to Add Pictures to MySpace?</td>\n",
       "      <td>How to Add Pictures to MySpace</td>\n",
       "      <td>[Log in to Myspace., Click on Photos below on ...</td>\n",
       "      <td>summarization</td>\n",
       "    </tr>\n",
       "    <tr>\n",
       "      <th>4</th>\n",
       "      <td>58220</td>\n",
       "      <td>How to Pay a California Highway Patrol Ticket ...</td>\n",
       "      <td>How to Pay a California Highway Patrol Ticket ...</td>\n",
       "      <td>[Read the citation carefully., Schedule time.,...</td>\n",
       "      <td>summarization</td>\n",
       "    </tr>\n",
       "    <tr>\n",
       "      <th>...</th>\n",
       "      <td>...</td>\n",
       "      <td>...</td>\n",
       "      <td>...</td>\n",
       "      <td>...</td>\n",
       "      <td>...</td>\n",
       "    </tr>\n",
       "    <tr>\n",
       "      <th>4995</th>\n",
       "      <td>6443</td>\n",
       "      <td>How to Become Rare on Animal Jam?</td>\n",
       "      <td>How to Become Rare on Animal Jam2</td>\n",
       "      <td>[Be around for Rare Monday items., Use rare it...</td>\n",
       "      <td>summarization</td>\n",
       "    </tr>\n",
       "    <tr>\n",
       "      <th>4996</th>\n",
       "      <td>6444</td>\n",
       "      <td>How to Become Rare on Animal Jam?</td>\n",
       "      <td>How to Become Rare on Animal Jam3</td>\n",
       "      <td>[Create a YouTube account if you're okay about...</td>\n",
       "      <td>summarization</td>\n",
       "    </tr>\n",
       "    <tr>\n",
       "      <th>4997</th>\n",
       "      <td>6445</td>\n",
       "      <td>How to Become Rare on Animal Jam?</td>\n",
       "      <td>How to Become Rare on Animal Jam4</td>\n",
       "      <td>[Trade for what you want., Gather as many rare...</td>\n",
       "      <td>summarization</td>\n",
       "    </tr>\n",
       "    <tr>\n",
       "      <th>4998</th>\n",
       "      <td>6446</td>\n",
       "      <td>How to Become Rare on Animal Jam?</td>\n",
       "      <td>How to Become Rare on Animal Jam5</td>\n",
       "      <td>[Enter giveaways., Go to famous jammers stream...</td>\n",
       "      <td>summarization</td>\n",
       "    </tr>\n",
       "    <tr>\n",
       "      <th>4999</th>\n",
       "      <td>11027</td>\n",
       "      <td>How to Catch a Legendary in Pokémon Omega Ruby...</td>\n",
       "      <td>How to Catch a Legendary in Pokémon Omega Ruby...</td>\n",
       "      <td>[Save your game., Enter the battle., Use an Ul...</td>\n",
       "      <td>summarization</td>\n",
       "    </tr>\n",
       "  </tbody>\n",
       "</table>\n",
       "<p>5000 rows × 5 columns</p>\n",
       "</div>"
      ],
      "text/plain": [
       "         id                                              title  \\\n",
       "0     52826                     How to Make a Felt Heart Card?   \n",
       "1     68152               How to Sell Jewelry at Flea Markets?   \n",
       "2     49263            How to Make Money Cooking in Runescape?   \n",
       "3       975                    How to Add Pictures to MySpace?   \n",
       "4     58220  How to Pay a California Highway Patrol Ticket ...   \n",
       "...     ...                                                ...   \n",
       "4995   6443                  How to Become Rare on Animal Jam?   \n",
       "4996   6444                  How to Become Rare on Animal Jam?   \n",
       "4997   6445                  How to Become Rare on Animal Jam?   \n",
       "4998   6446                  How to Become Rare on Animal Jam?   \n",
       "4999  11027  How to Catch a Legendary in Pokémon Omega Ruby...   \n",
       "\n",
       "                                         original_title  \\\n",
       "0                         How to Make a Felt Heart Card   \n",
       "1                   How to Sell Jewelry at Flea Markets   \n",
       "2                How to Make Money Cooking in Runescape   \n",
       "3                        How to Add Pictures to MySpace   \n",
       "4     How to Pay a California Highway Patrol Ticket ...   \n",
       "...                                                 ...   \n",
       "4995                  How to Become Rare on Animal Jam2   \n",
       "4996                  How to Become Rare on Animal Jam3   \n",
       "4997                  How to Become Rare on Animal Jam4   \n",
       "4998                  How to Become Rare on Animal Jam5   \n",
       "4999  How to Catch a Legendary in Pokémon Omega Ruby...   \n",
       "\n",
       "                                              subevents         source  \n",
       "0     [Start by preparing the card., Measure the hea...  summarization  \n",
       "1     [Explore flea markets in your area., Network w...  summarization  \n",
       "2     [Acknowledge that higher skill levels will ben...  summarization  \n",
       "3     [Log in to Myspace., Click on Photos below on ...  summarization  \n",
       "4     [Read the citation carefully., Schedule time.,...  summarization  \n",
       "...                                                 ...            ...  \n",
       "4995  [Be around for Rare Monday items., Use rare it...  summarization  \n",
       "4996  [Create a YouTube account if you're okay about...  summarization  \n",
       "4997  [Trade for what you want., Gather as many rare...  summarization  \n",
       "4998  [Enter giveaways., Go to famous jammers stream...  summarization  \n",
       "4999  [Save your game., Enter the battle., Use an Ul...  summarization  \n",
       "\n",
       "[5000 rows x 5 columns]"
      ]
     },
     "execution_count": 47,
     "metadata": {},
     "output_type": "execute_result"
    }
   ],
   "source": [
    "wikihow1"
   ]
  },
  {
   "cell_type": "code",
   "execution_count": 48,
   "id": "3c489866-e4ec-444d-a374-5f103009d8ef",
   "metadata": {},
   "outputs": [
    {
     "data": {
      "text/plain": [
       "['Start by preparing the card.',\n",
       " 'Measure the hearts.',\n",
       " 'Cut out the heart shapes.',\n",
       " 'Assemble into a pile of hearts before transferring to the card.',\n",
       " 'Transfer to the card and glue into place on the card.']"
      ]
     },
     "execution_count": 48,
     "metadata": {},
     "output_type": "execute_result"
    }
   ],
   "source": [
    "wikihow1.iloc[0,3]"
   ]
  },
  {
   "cell_type": "code",
   "execution_count": 49,
   "id": "833ad153-d73b-4d5b-825d-574d2f00697a",
   "metadata": {},
   "outputs": [],
   "source": [
    "gb = wikihow1.groupby('title')  "
   ]
  },
  {
   "cell_type": "code",
   "execution_count": 50,
   "id": "7546e5b3-7a02-4e75-9a38-617da8c16b3b",
   "metadata": {},
   "outputs": [],
   "source": [
    "list_of_group = [gb.get_group(x) for x in gb.groups]"
   ]
  },
  {
   "cell_type": "code",
   "execution_count": 51,
   "id": "e29f58ae-9e21-4724-b4d3-443c7d42044b",
   "metadata": {},
   "outputs": [
    {
     "data": {
      "text/html": [
       "<div>\n",
       "<style scoped>\n",
       "    .dataframe tbody tr th:only-of-type {\n",
       "        vertical-align: middle;\n",
       "    }\n",
       "\n",
       "    .dataframe tbody tr th {\n",
       "        vertical-align: top;\n",
       "    }\n",
       "\n",
       "    .dataframe thead th {\n",
       "        text-align: right;\n",
       "    }\n",
       "</style>\n",
       "<table border=\"1\" class=\"dataframe\">\n",
       "  <thead>\n",
       "    <tr style=\"text-align: right;\">\n",
       "      <th></th>\n",
       "      <th>id</th>\n",
       "      <th>title</th>\n",
       "      <th>original_title</th>\n",
       "      <th>subevents</th>\n",
       "      <th>source</th>\n",
       "    </tr>\n",
       "  </thead>\n",
       "  <tbody>\n",
       "    <tr>\n",
       "      <th>2448</th>\n",
       "      <td>241</td>\n",
       "      <td>How to Accessorize Your Home With Family Photos?</td>\n",
       "      <td>How to Accessorize Your Home With Family Photos1</td>\n",
       "      <td>[Group your photographs by color., Showcase a ...</td>\n",
       "      <td>summarization</td>\n",
       "    </tr>\n",
       "    <tr>\n",
       "      <th>2449</th>\n",
       "      <td>242</td>\n",
       "      <td>How to Accessorize Your Home With Family Photos?</td>\n",
       "      <td>How to Accessorize Your Home With Family Photos5</td>\n",
       "      <td>[Place a montage of photographs underneath a p...</td>\n",
       "      <td>summarization</td>\n",
       "    </tr>\n",
       "  </tbody>\n",
       "</table>\n",
       "</div>"
      ],
      "text/plain": [
       "       id                                             title  \\\n",
       "2448  241  How to Accessorize Your Home With Family Photos?   \n",
       "2449  242  How to Accessorize Your Home With Family Photos?   \n",
       "\n",
       "                                        original_title  \\\n",
       "2448  How to Accessorize Your Home With Family Photos1   \n",
       "2449  How to Accessorize Your Home With Family Photos5   \n",
       "\n",
       "                                              subevents         source  \n",
       "2448  [Group your photographs by color., Showcase a ...  summarization  \n",
       "2449  [Place a montage of photographs underneath a p...  summarization  "
      ]
     },
     "execution_count": 51,
     "metadata": {},
     "output_type": "execute_result"
    }
   ],
   "source": [
    "list_of_group[7]"
   ]
  },
  {
   "cell_type": "code",
   "execution_count": 52,
   "id": "aedf8146-9568-444b-81b6-ed3a1601647f",
   "metadata": {},
   "outputs": [
    {
     "data": {
      "text/plain": [
       "['Group your photographs by color.',\n",
       " 'Showcase a special event like a vacation.',\n",
       " 'Choose photographs of a particular person or of a specific family group and create a special montage.']"
      ]
     },
     "execution_count": 52,
     "metadata": {},
     "output_type": "execute_result"
    }
   ],
   "source": [
    "list_of_group[7].iloc[0,-2]"
   ]
  },
  {
   "cell_type": "code",
   "execution_count": 53,
   "id": "348f90d2-2741-4251-92e8-fa3be5c6170e",
   "metadata": {},
   "outputs": [
    {
     "data": {
      "text/plain": [
       "['Place a montage of photographs underneath a piece of glass if you have a glass-topped table.',\n",
       " 'Find a company that turns photographs into wallpaper.']"
      ]
     },
     "execution_count": 53,
     "metadata": {},
     "output_type": "execute_result"
    }
   ],
   "source": [
    "list_of_group[7].iloc[1,-2]"
   ]
  },
  {
   "cell_type": "code",
   "execution_count": 54,
   "id": "c3375a40-e9ad-46b4-90a1-a90005281196",
   "metadata": {},
   "outputs": [],
   "source": [
    "def process_wikihow(topic_df):\n",
    "    topic = topic_df.iloc[0,1]\n",
    "    script_list = [topic_df.iloc[i,-2] for i in range(len(topic_df))]\n",
    "    return {'source':'wikihow', 'topic': topic, 'text': script_list}"
   ]
  },
  {
   "cell_type": "code",
   "execution_count": 55,
   "id": "52f04530-a603-4ab5-80a6-37284ab8cafc",
   "metadata": {},
   "outputs": [
    {
     "data": {
      "text/plain": [
       "{'source': 'wikihow',\n",
       " 'topic': 'How to Accessorize Your Home With Family Photos?',\n",
       " 'text': [['Group your photographs by color.',\n",
       "   'Showcase a special event like a vacation.',\n",
       "   'Choose photographs of a particular person or of a specific family group and create a special montage.'],\n",
       "  ['Place a montage of photographs underneath a piece of glass if you have a glass-topped table.',\n",
       "   'Find a company that turns photographs into wallpaper.']]}"
      ]
     },
     "execution_count": 55,
     "metadata": {},
     "output_type": "execute_result"
    }
   ],
   "source": [
    "process_wikihow(list_of_group[7])"
   ]
  },
  {
   "cell_type": "code",
   "execution_count": 56,
   "id": "2beb799b-ef14-4884-bbda-e7da1ebbc0e8",
   "metadata": {},
   "outputs": [],
   "source": [
    "wiki_how_all = [process_wikihow(list_of_group[i]) for i in range(len(list_of_group))]"
   ]
  },
  {
   "cell_type": "code",
   "execution_count": 57,
   "id": "c7902f75-14bc-48d8-9078-7bd211eee593",
   "metadata": {},
   "outputs": [],
   "source": [
    "# wiki_how_all"
   ]
  },
  {
   "cell_type": "markdown",
   "id": "35d37075-ca52-4e2b-bf9f-dd1831ccf532",
   "metadata": {},
   "source": [
    "## all data"
   ]
  },
  {
   "cell_type": "code",
   "execution_count": 58,
   "id": "a6386d4c-4124-499c-b493-f6febde473c5",
   "metadata": {},
   "outputs": [],
   "source": [
    "all_data = all_proscript + all_OMICS + all_pilot_esd + all_stories + wiki_how_all"
   ]
  },
  {
   "cell_type": "code",
   "execution_count": 59,
   "id": "327074ef-fe83-4b68-9af3-5e34c9a47835",
   "metadata": {},
   "outputs": [
    {
     "data": {
      "text/plain": [
       "3783"
      ]
     },
     "execution_count": 59,
     "metadata": {},
     "output_type": "execute_result"
    }
   ],
   "source": [
    "len(all_data)"
   ]
  },
  {
   "cell_type": "code",
   "execution_count": 60,
   "id": "65930876-1c63-453c-9396-477ab4485d5b",
   "metadata": {},
   "outputs": [
    {
     "name": "stdout",
     "output_type": "stream",
     "text": [
      "True\n"
     ]
    }
   ],
   "source": [
    "import pickle\n",
    "\n",
    "with open('Scripts_learning_dataset_proscript_use_flatten_generation.pickle', 'wb') as handle:\n",
    "    pickle.dump(all_data, handle, protocol=pickle.HIGHEST_PROTOCOL)\n",
    "\n",
    "with open('Scripts_learning_dataset_proscript_use_flatten_generation.pickle', 'rb') as handle:\n",
    "    b = pickle.load(handle)\n",
    "\n",
    "print(all_data == b)"
   ]
  },
  {
   "cell_type": "code",
   "execution_count": null,
   "id": "bd08fb5e-b5be-4ccc-a608-694291624b60",
   "metadata": {},
   "outputs": [],
   "source": []
  }
 ],
 "metadata": {
  "kernelspec": {
   "display_name": "Python 3 (ipykernel)",
   "language": "python",
   "name": "python3"
  },
  "language_info": {
   "codemirror_mode": {
    "name": "ipython",
    "version": 3
   },
   "file_extension": ".py",
   "mimetype": "text/x-python",
   "name": "python",
   "nbconvert_exporter": "python",
   "pygments_lexer": "ipython3",
   "version": "3.9.13"
  }
 },
 "nbformat": 4,
 "nbformat_minor": 5
}
