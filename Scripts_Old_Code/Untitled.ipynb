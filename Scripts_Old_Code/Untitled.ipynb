{
 "cells": [
  {
   "cell_type": "code",
   "execution_count": 6,
   "id": "43b33d76",
   "metadata": {},
   "outputs": [],
   "source": [
    "def f1(tp, tn, fp, fn):\n",
    "    p = tp / (tp + fp)\n",
    "    r = tp/ (tp+ fn)\n",
    "    f = (2 * p * r)/(p + r)\n",
    "    return p, r, f"
   ]
  },
  {
   "cell_type": "code",
   "execution_count": 12,
   "id": "354a4765",
   "metadata": {},
   "outputs": [],
   "source": [
    "p, r, f = f1(1323,8025,795,1734)"
   ]
  },
  {
   "cell_type": "code",
   "execution_count": 13,
   "id": "6063e5ad",
   "metadata": {},
   "outputs": [
    {
     "name": "stdout",
     "output_type": "stream",
     "text": [
      "0.6246458923512748\n",
      "0.43277723258096173\n",
      "0.5113043478260869\n"
     ]
    }
   ],
   "source": [
    "print(p)\n",
    "print(r)\n",
    "print(f)"
   ]
  },
  {
   "cell_type": "code",
   "execution_count": 16,
   "id": "5a90de26",
   "metadata": {},
   "outputs": [
    {
     "name": "stdout",
     "output_type": "stream",
     "text": [
      "0.6246458923512748\n",
      "0.43277723258096173\n",
      "0.5113043478260869\n"
     ]
    }
   ],
   "source": [
    "p, r, f = f1(1323,8025,795,1734)\n",
    "print(p)\n",
    "print(r)\n",
    "print(f)"
   ]
  },
  {
   "cell_type": "code",
   "execution_count": null,
   "id": "3367a361",
   "metadata": {},
   "outputs": [],
   "source": []
  }
 ],
 "metadata": {
  "kernelspec": {
   "display_name": "Python 3",
   "language": "python",
   "name": "python3"
  },
  "language_info": {
   "codemirror_mode": {
    "name": "ipython",
    "version": 3
   },
   "file_extension": ".py",
   "mimetype": "text/x-python",
   "name": "python",
   "nbconvert_exporter": "python",
   "pygments_lexer": "ipython3",
   "version": "3.8.8"
  }
 },
 "nbformat": 4,
 "nbformat_minor": 5
}
